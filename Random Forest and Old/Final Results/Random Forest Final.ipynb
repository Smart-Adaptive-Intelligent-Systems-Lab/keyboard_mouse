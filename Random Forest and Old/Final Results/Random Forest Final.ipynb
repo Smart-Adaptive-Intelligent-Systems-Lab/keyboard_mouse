{
  "cells": [
    {
      "cell_type": "code",
      "execution_count": 1,
      "metadata": {
        "colab": {
          "base_uri": "https://localhost:8080/"
        },
        "id": "QQUqRjRliqbd",
        "outputId": "de54f573-760a-4289-9c2e-8d43b5b1d4d4"
      },
      "outputs": [
        {
          "name": "stderr",
          "output_type": "stream",
          "text": [
            "c:\\Users\\kevin\\AppData\\Local\\Programs\\Python\\Python39\\lib\\site-packages\\tqdm\\auto.py:22: TqdmWarning: IProgress not found. Please update jupyter and ipywidgets. See https://ipywidgets.readthedocs.io/en/stable/user_install.html\n",
            "  from .autonotebook import tqdm as notebook_tqdm\n"
          ]
        },
        {
          "name": "stdout",
          "output_type": "stream",
          "text": [
            "True\n",
            "cuda\n"
          ]
        }
      ],
      "source": [
        "import torch\n",
        "from torch import nn\n",
        "from torch.utils.data import Dataset, DataLoader\n",
        "from torch.optim import lr_scheduler\n",
        "import torchvision\n",
        "import torchvision.transforms as transforms\n",
        "from sklearn.ensemble import RandomForestClassifier\n",
        "\n",
        "from sklearn.metrics import confusion_matrix, accuracy_score, precision_score, recall_score, f1_score\n",
        "from sklearn.model_selection import StratifiedKFold, KFold\n",
        "import numpy as np\n",
        "import pandas as pd\n",
        "import matplotlib.pyplot as plt\n",
        "from random import shuffle\n",
        "import warnings\n",
        "\n",
        "warnings.filterwarnings('ignore')\n",
        "\n",
        "print(torch.cuda.is_available())\n",
        "device = torch.device('cuda' if torch.cuda.is_available() else 'cpu')\n",
        "print(device)"
      ]
    },
    {
      "cell_type": "code",
      "execution_count": 2,
      "metadata": {
        "id": "FpHmjzCFjkHS"
      },
      "outputs": [],
      "source": [
        "learning_rate = 0.001\n",
        "epochs = 20\n",
        "\n",
        "n_estimators = 100\n",
        "max_depth = 7\n",
        "max_features = 0.4"
      ]
    },
    {
      "cell_type": "code",
      "execution_count": 3,
      "metadata": {
        "colab": {
          "base_uri": "https://localhost:8080/"
        },
        "id": "Opp3vbulu_sP",
        "outputId": "fed13567-7d04-4880-ed89-abe4434e6740"
      },
      "outputs": [
        {
          "name": "stdout",
          "output_type": "stream",
          "text": [
            "                     Inactivity Duration(s)  Speed(ms)  PAM_Val\n",
            "Time                                                           \n",
            "2021-09-10 13:30:00             4069.192139   6.602493        2\n",
            "2021-09-10 14:00:00             3073.023438   5.796617        2\n",
            "2021-09-10 14:30:00             2250.151123   3.741216        2\n",
            "2021-09-10 15:00:00             1751.982178   2.708780        2\n",
            "2021-09-10 15:30:00             2818.204834   3.040749        2\n",
            "(7176, 3)\n"
          ]
        }
      ],
      "source": [
        "user = pd.concat([pd.read_csv('postprocessed_gretel.csv'), pd.read_csv('user1_preprocessed_2.csv'), pd.read_csv('user2_preprocessed_2.csv')], axis=0)\n",
        "\n",
        "user = user.set_index(pd.DatetimeIndex(user['Time']))\n",
        "\n",
        "user = user.filter(items=['Inactivity Duration(s)', 'Speed(ms)', 'PAM_Val'])\n",
        "\n",
        "print(user.head(5))\n",
        "print(user.shape)"
      ]
    },
    {
      "cell_type": "code",
      "execution_count": 5,
      "metadata": {},
      "outputs": [
        {
          "name": "stdout",
          "output_type": "stream",
          "text": [
            "(7176, 3)\n",
            "1     608\n",
            "2    5170\n",
            "3    1396\n",
            "4       2\n",
            "Name: PAM_Val, dtype: int64\n",
            "1    0.084727\n",
            "2    0.720457\n",
            "3    0.194537\n",
            "4    0.000279\n",
            "Name: PAM_Val, dtype: float64\n"
          ]
        }
      ],
      "source": [
        "print(user.shape)\n",
        "print(user.PAM_Val.value_counts().sort_index())\n",
        "print(user.PAM_Val.value_counts(normalize=True).sort_index())"
      ]
    },
    {
      "cell_type": "code",
      "execution_count": 6,
      "metadata": {},
      "outputs": [
        {
          "name": "stdout",
          "output_type": "stream",
          "text": [
            "                     Inactivity Duration(s)  Speed(ms)  PAM_Val\n",
            "Time                                                           \n",
            "2021-09-10 13:30:00             4069.192139   6.602493      1.0\n",
            "2021-09-10 14:00:00             3073.023438   5.796617      1.0\n",
            "2021-09-10 14:30:00             2250.151123   3.741216      1.0\n",
            "2021-09-10 15:00:00             1751.982178   2.708780      1.0\n",
            "2021-09-10 15:30:00             2818.204834   3.040749      1.0\n"
          ]
        }
      ],
      "source": [
        "user['PAM_Val'] = user['PAM_Val'] - 1.0\n",
        "\n",
        "print(user.head(5))"
      ]
    },
    {
      "cell_type": "code",
      "execution_count": 7,
      "metadata": {},
      "outputs": [
        {
          "name": "stdout",
          "output_type": "stream",
          "text": [
            "                     Inactivity Duration(s)  Speed(ms)\n",
            "Time                                                  \n",
            "2021-09-10 13:30:00             4069.192139   6.602493\n",
            "2021-09-10 14:00:00             3073.023438   5.796617\n",
            "2021-09-10 14:30:00             2250.151123   3.741216\n",
            "2021-09-10 15:00:00             1751.982178   2.708780\n",
            "2021-09-10 15:30:00             2818.204834   3.040749\n",
            "...                                     ...        ...\n",
            "2021-09-10 15:00:00             1793.473999   2.572861\n",
            "2021-09-10 15:30:00             2023.965454   2.534229\n",
            "2021-09-10 16:00:00             2068.907471   2.476279\n",
            "2021-09-10 16:30:00             5908.447266   2.622682\n",
            "2021-09-10 17:00:00             4763.646973   2.835002\n",
            "\n",
            "[7176 rows x 2 columns]\n",
            "Time\n",
            "2021-09-10 13:30:00    1.0\n",
            "2021-09-10 14:00:00    1.0\n",
            "2021-09-10 14:30:00    1.0\n",
            "2021-09-10 15:00:00    1.0\n",
            "2021-09-10 15:30:00    1.0\n",
            "                      ... \n",
            "2021-09-10 15:00:00    1.0\n",
            "2021-09-10 15:30:00    1.0\n",
            "2021-09-10 16:00:00    1.0\n",
            "2021-09-10 16:30:00    1.0\n",
            "2021-09-10 17:00:00    1.0\n",
            "Name: PAM_Val, Length: 7176, dtype: float64\n"
          ]
        }
      ],
      "source": [
        "X = user.drop(columns='PAM_Val')\n",
        "y = user['PAM_Val']\n",
        "\n",
        "print(X)\n",
        "print(y)"
      ]
    },
    {
      "cell_type": "code",
      "execution_count": 8,
      "metadata": {
        "id": "8Qw3mz5-jUD-"
      },
      "outputs": [],
      "source": [
        "loss_fn = nn.CrossEntropyLoss()"
      ]
    },
    {
      "cell_type": "code",
      "execution_count": 9,
      "metadata": {
        "id": "5BVRtsBCvJ4b"
      },
      "outputs": [],
      "source": [
        "kfold = KFold(n_splits=5, shuffle=True)"
      ]
    },
    {
      "cell_type": "code",
      "execution_count": 10,
      "metadata": {
        "colab": {
          "base_uri": "https://localhost:8080/",
          "height": 252
        },
        "id": "iWTvlKOBvKfV",
        "outputId": "ee0a1c23-888a-482f-eac9-7f583997dda3"
      },
      "outputs": [
        {
          "name": "stdout",
          "output_type": "stream",
          "text": [
            "======================== Fold 0 ========================\n",
            "Confusion Matrix:\n",
            "[[  4  84  32   0]\n",
            " [  4 976  72   0]\n",
            " [  1  48 215   0]\n",
            " [  0   0   0   0]]\n",
            "Accuracy:\n",
            "0.8321727019498607\n",
            "Precision:\n",
            "0.49982301541494867\n",
            "Recall:\n",
            "0.44387098167991706\n",
            "F1:\n",
            "0.42582088251241385\n",
            "\n",
            "======================== Fold 1 ========================\n",
            "Confusion Matrix:\n",
            "[[  2  74  36   0]\n",
            " [  4 973  69   0]\n",
            " [  5  37 235   0]\n",
            " [  0   0   0   0]]\n",
            "Accuracy:\n",
            "0.8432055749128919\n",
            "Precision:\n",
            "0.4426490321052943\n",
            "Recall:\n",
            "0.44911072979212047\n",
            "F1:\n",
            "0.426971438465954\n",
            "\n",
            "======================== Fold 2 ========================\n",
            "Confusion Matrix:\n",
            "[[  5  96  42   0]\n",
            " [  7 949  49   0]\n",
            " [  2  59 225   0]\n",
            " [  0   0   1   0]]\n",
            "Accuracy:\n",
            "0.821602787456446\n",
            "Precision:\n",
            "0.4816308715572363\n",
            "Recall:\n",
            "0.441489232160874\n",
            "F1:\n",
            "0.427478877098863\n",
            "\n",
            "======================== Fold 3 ========================\n",
            "Confusion Matrix:\n",
            "[[  4  95  24   0]\n",
            " [  2 943  72   0]\n",
            " [  3  61 230   0]\n",
            " [  0   0   1   0]]\n",
            "Accuracy:\n",
            "0.8202090592334494\n",
            "Precision:\n",
            "0.5014652835169402\n",
            "Recall:\n",
            "0.43551755546451976\n",
            "F1:\n",
            "0.4231627872932221\n",
            "\n",
            "======================== Fold 4 ========================\n",
            "Confusion Matrix:\n",
            "[[  7  74  29   0]\n",
            " [  1 969  80   0]\n",
            " [  1  58 216   0]\n",
            " [  0   0   0   0]]\n",
            "Accuracy:\n",
            "0.8306620209059233\n",
            "Precision:\n",
            "0.5806255385546939\n",
            "Recall:\n",
            "0.44298701298701293\n",
            "F1:\n",
            "0.43465583723028955\n",
            "\n"
          ]
        }
      ],
      "source": [
        "comb_accuracy = []\n",
        "comb_precision = []\n",
        "comb_recall = []\n",
        "comb_f1 = []\n",
        "comb_accuracy_train = []\n",
        "comb_precision_train = []\n",
        "comb_recall_train = []\n",
        "comb_f1_train = []\n",
        "for i, (train_index, test_index) in enumerate(kfold.split(X)):\n",
        "    print(f\"======================== Fold {i} ========================\")\n",
        "\n",
        "    X_train = np.array(X)[train_index]\n",
        "    y_train = np.array(y)[train_index]\n",
        "    X_test = np.array(X)[test_index]\n",
        "    y_test = np.array(y)[test_index]\n",
        "\n",
        "    classifier = RandomForestClassifier(n_estimators=n_estimators, max_depth=max_depth, max_features=max_features, criterion = 'entropy')\n",
        "    classifier.fit(X_train, y_train.flatten())\n",
        "\n",
        "    y_pred_train = classifier.predict(X_train)\n",
        "\n",
        "    conf_matrix_train = confusion_matrix(y_train.flatten(), y_pred_train, labels=[0,1,2,3])\n",
        "    accuracy_train = accuracy_score(y_train.flatten(), y_pred_train)\n",
        "    precision_train = precision_score(y_train.flatten(), y_pred_train, labels=[0,1,2,3], average='macro')\n",
        "    recall_train = recall_score(y_train.flatten(), y_pred_train, labels=[0,1,2,3], average='macro')\n",
        "    f1_train = f1_score(y_train.flatten(), y_pred_train, labels=[0,1,2,3], average='macro')\n",
        "\n",
        "    y_pred = classifier.predict(X_test)\n",
        "\n",
        "    conf_matrix = confusion_matrix(y_test.flatten(), y_pred, labels=[0,1,2,3])\n",
        "    accuracy = accuracy_score(y_test.flatten(), y_pred)\n",
        "    precision = precision_score(y_test.flatten(), y_pred, labels=[0,1,2,3], average='macro')\n",
        "    recall = recall_score(y_test.flatten(), y_pred, labels=[0,1,2,3], average='macro')\n",
        "    f1 = f1_score(y_test.flatten(), y_pred, labels=[0,1,2,3], average='macro')\n",
        "\n",
        "    comb_accuracy_train.append(accuracy_train)\n",
        "    comb_precision_train.append(precision_train)\n",
        "    comb_recall_train.append(recall_train)\n",
        "    comb_f1_train.append(f1_train)\n",
        "\n",
        "    comb_accuracy.append(accuracy)\n",
        "    comb_precision.append(precision)\n",
        "    comb_recall.append(recall)\n",
        "    comb_f1.append(f1)\n",
        "\n",
        "    print('Confusion Matrix:')\n",
        "    print(np.array(conf_matrix))\n",
        "    print('Accuracy:')\n",
        "    print(accuracy)\n",
        "    print('Precision:')\n",
        "    print(precision)\n",
        "    print('Recall:')\n",
        "    print(recall)\n",
        "    print('F1:')\n",
        "    print(f1)\n",
        "    print()"
      ]
    },
    {
      "cell_type": "code",
      "execution_count": 11,
      "metadata": {
        "id": "EPk3L9fYbRQg"
      },
      "outputs": [
        {
          "name": "stdout",
          "output_type": "stream",
          "text": [
            "Average Accuracy:\n",
            "\tTrain: 0.8461539194509571\n",
            "\tTest: 0.8295704288917143\n",
            "Average Precision:\n",
            "\tTrain: 0.5996951195935941\n",
            "\tTest: 0.5012387482298226\n",
            "Average Recall:\n",
            "\tTrain: 0.4635180731392058\n",
            "\tTest: 0.44259510241688876\n",
            "Average F1:\n",
            "\tTrain: 0.4574259313817475\n",
            "\tTest: 0.4276179645201486\n"
          ]
        }
      ],
      "source": [
        "comb_accuracy_train = np.array(comb_accuracy_train)\n",
        "comb_precision_train = np.array(comb_precision_train)\n",
        "comb_recall_train = np.array(comb_recall_train)\n",
        "comb_f1_train = np.array(comb_f1_train)\n",
        "\n",
        "comb_accuracy = np.array(comb_accuracy)\n",
        "comb_precision = np.array(comb_precision)\n",
        "comb_recall = np.array(comb_recall)\n",
        "comb_f1 = np.array(comb_f1)\n",
        "\n",
        "print('Average Accuracy:')\n",
        "print('\\tTrain:', comb_accuracy_train.mean(axis=0))\n",
        "print('\\tTest:', comb_accuracy.mean(axis=0))\n",
        "print('Average Precision:')\n",
        "print('\\tTrain:', comb_precision_train.mean(axis=0))\n",
        "print('\\tTest:', comb_precision.mean(axis=0))\n",
        "print('Average Recall:')\n",
        "print('\\tTrain:', comb_recall_train.mean(axis=0))\n",
        "print('\\tTest:', comb_recall.mean(axis=0))\n",
        "print('Average F1:')\n",
        "print('\\tTrain:', comb_f1_train.mean(axis=0))\n",
        "print('\\tTest:', comb_f1.mean(axis=0))"
      ]
    }
  ],
  "metadata": {
    "accelerator": "GPU",
    "colab": {
      "provenance": []
    },
    "gpuClass": "standard",
    "kernelspec": {
      "display_name": "Python 3",
      "language": "python",
      "name": "python3"
    },
    "language_info": {
      "codemirror_mode": {
        "name": "ipython",
        "version": 3
      },
      "file_extension": ".py",
      "mimetype": "text/x-python",
      "name": "python",
      "nbconvert_exporter": "python",
      "pygments_lexer": "ipython3",
      "version": "3.9.6"
    },
    "vscode": {
      "interpreter": {
        "hash": "772f66837d71377a9e91bdceabcb0d3cb18014278592638634865ba084916021"
      }
    }
  },
  "nbformat": 4,
  "nbformat_minor": 0
}

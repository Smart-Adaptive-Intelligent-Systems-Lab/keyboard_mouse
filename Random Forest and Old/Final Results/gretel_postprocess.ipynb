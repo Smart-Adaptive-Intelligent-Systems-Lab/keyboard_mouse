{
 "cells": [
  {
   "cell_type": "code",
   "execution_count": 1,
   "metadata": {},
   "outputs": [],
   "source": [
    "import pandas as pd\n",
    "import numpy as np\n",
    "import random"
   ]
  },
  {
   "cell_type": "code",
   "execution_count": 2,
   "metadata": {},
   "outputs": [],
   "source": [
    "output_path = './output.csv'"
   ]
  },
  {
   "cell_type": "code",
   "execution_count": 3,
   "metadata": {},
   "outputs": [
    {
     "name": "stdout",
     "output_type": "stream",
     "text": [
      "                         App_Name  Inactivity Duration(s)  Keystroke_Count  \\\n",
      "Time                                                                         \n",
      "2021-09-10 13:30:00  explorer.exe             5341.912109              820   \n",
      "2021-09-10 14:00:00  explorer.exe             3371.500244               87   \n",
      "2021-09-10 14:30:00  explorer.exe             3674.169434              272   \n",
      "2021-09-10 15:00:00  explorer.exe             2728.472412               87   \n",
      "2021-09-10 15:30:00  explorer.exe             2246.260498               87   \n",
      "\n",
      "                     Speed(ms)  PAM_Val  example_id  \n",
      "Time                                                 \n",
      "2021-09-10 13:30:00   7.348455        2           0  \n",
      "2021-09-10 14:00:00   6.596720        2           0  \n",
      "2021-09-10 14:30:00   4.375814        2           0  \n",
      "2021-09-10 15:00:00   3.832777        2           0  \n",
      "2021-09-10 15:30:00   3.917490        2           0  \n",
      "(800000, 6)\n"
     ]
    }
   ],
   "source": [
    "user = pd.read_csv('input.csv')\n",
    "\n",
    "user = user.set_index(pd.DatetimeIndex(user['Time']))\n",
    "\n",
    "user.drop(columns='Time', inplace=True)\n",
    "\n",
    "print(user.head(5))\n",
    "print(user.shape)"
   ]
  },
  {
   "cell_type": "code",
   "execution_count": 4,
   "metadata": {},
   "outputs": [
    {
     "name": "stdout",
     "output_type": "stream",
     "text": [
      "1    0.054852\n",
      "2    0.943225\n",
      "3    0.001720\n",
      "4    0.000202\n",
      "Name: PAM_Val, dtype: float64\n"
     ]
    }
   ],
   "source": [
    "print(user.PAM_Val.value_counts(normalize=True).sort_index())"
   ]
  },
  {
   "cell_type": "code",
   "execution_count": 5,
   "metadata": {},
   "outputs": [
    {
     "name": "stdout",
     "output_type": "stream",
     "text": [
      "                         App_Name  Inactivity Duration(s)  Keystroke_Count  \\\n",
      "Time                                                                         \n",
      "2021-09-10 13:30:00  explorer.exe             5341.912109              820   \n",
      "2021-09-10 14:00:00  explorer.exe             3371.500244               87   \n",
      "2021-09-10 14:30:00  explorer.exe             3674.169434              272   \n",
      "2021-09-10 15:00:00  explorer.exe             2728.472412               87   \n",
      "2021-09-10 15:30:00  explorer.exe             2246.260498               87   \n",
      "\n",
      "                     Speed(ms)  example_id  \n",
      "Time                                        \n",
      "2021-09-10 13:30:00   7.348455           0  \n",
      "2021-09-10 14:00:00   6.596720           0  \n",
      "2021-09-10 14:30:00   4.375814           0  \n",
      "2021-09-10 15:00:00   3.832777           0  \n",
      "2021-09-10 15:30:00   3.917490           0  \n",
      "                     PAM_Val  example_id\n",
      "Time                                    \n",
      "2021-09-10 13:30:00        2           0\n",
      "2021-09-10 14:00:00        2           0\n",
      "2021-09-10 14:30:00        2           0\n",
      "2021-09-10 15:00:00        2           0\n",
      "2021-09-10 15:30:00        2           0\n"
     ]
    }
   ],
   "source": [
    "user_X = user.drop(columns=['PAM_Val'])\n",
    "user_y = user.filter(['PAM_Val', 'example_id'])\n",
    "\n",
    "print(user_X.head(5))\n",
    "print(user_y.head(5))\n",
    "\n",
    "user_X = user_X.groupby(by='example_id')\n",
    "user_y = user_y.groupby(by='example_id')"
   ]
  },
  {
   "cell_type": "code",
   "execution_count": 6,
   "metadata": {},
   "outputs": [
    {
     "name": "stdout",
     "output_type": "stream",
     "text": [
      "(100000, 8, 6)\n",
      "                         App_Name  Inactivity Duration(s)  Keystroke_Count  \\\n",
      "Time                                                                         \n",
      "2021-09-10 13:30:00  explorer.exe             5341.912109              820   \n",
      "2021-09-10 14:00:00  explorer.exe             3371.500244               87   \n",
      "2021-09-10 14:30:00  explorer.exe             3674.169434              272   \n",
      "2021-09-10 15:00:00  explorer.exe             2728.472412               87   \n",
      "2021-09-10 15:30:00  explorer.exe             2246.260498               87   \n",
      "2021-09-10 16:00:00  explorer.exe             2867.938477               87   \n",
      "2021-09-10 16:30:00  explorer.exe             3240.399658              434   \n",
      "2021-09-10 17:00:00  explorer.exe             3763.725830              151   \n",
      "\n",
      "                     Speed(ms)  Prev_PAM_Val  PAM_Val  \n",
      "Time                                                   \n",
      "2021-09-10 13:30:00   7.348455           0.0        2  \n",
      "2021-09-10 14:00:00   6.596720           2.0        2  \n",
      "2021-09-10 14:30:00   4.375814           2.0        2  \n",
      "2021-09-10 15:00:00   3.832777           2.0        2  \n",
      "2021-09-10 15:30:00   3.917490           2.0        2  \n",
      "2021-09-10 16:00:00   4.629362           2.0        2  \n",
      "2021-09-10 16:30:00   7.191168           2.0        2  \n",
      "2021-09-10 17:00:00  13.370496           2.0        1  \n"
     ]
    }
   ],
   "source": [
    "user = []\n",
    "for one, two in zip(user_X, user_y):\n",
    "    traj_temp = pd.concat([one[1].drop(columns=['example_id']), two[1]['PAM_Val'].shift(1)], axis=1).fillna(0)\n",
    "    traj_temp = traj_temp.rename(columns={'PAM_Val': 'Prev_PAM_Val'})\n",
    "    traj_temp = pd.concat([traj_temp, two[1].drop(columns=['example_id'])], axis=1).fillna(0)\n",
    "    user.append(traj_temp)\n",
    "\n",
    "print(np.array(user).shape)\n",
    "\n",
    "print(user[0])"
   ]
  },
  {
   "cell_type": "code",
   "execution_count": 7,
   "metadata": {},
   "outputs": [
    {
     "name": "stdout",
     "output_type": "stream",
     "text": [
      "99998\n",
      "2\n",
      "1    7\n",
      "2    1\n",
      "3    8\n",
      "Name: PAM_Val, dtype: int64\n"
     ]
    }
   ],
   "source": [
    "counts = [[], []]\n",
    "for index, traj in enumerate(user):\n",
    "    #print(index)    \n",
    "    minority_count = 0\n",
    "    val_counts = traj.PAM_Val.value_counts().sort_index()\n",
    "    if 3 in val_counts.index:\n",
    "        minority_count += val_counts.loc[3]\n",
    "    if 4 in val_counts.index:\n",
    "        minority_count += val_counts.loc[4]\n",
    "    if minority_count >= 4:\n",
    "        counts[1].append(traj)\n",
    "    else:\n",
    "        counts[0].append(traj)\n",
    "\n",
    "for i in counts:\n",
    "    print(len(i))\n",
    "\n",
    "\n",
    "print(pd.concat(counts[1]).PAM_Val.value_counts().sort_index())"
   ]
  },
  {
   "cell_type": "code",
   "execution_count": 8,
   "metadata": {},
   "outputs": [
    {
     "name": "stdout",
     "output_type": "stream",
     "text": [
      "2\n",
      "1    7\n",
      "2    1\n",
      "3    8\n",
      "Name: PAM_Val, dtype: int64\n"
     ]
    }
   ],
   "source": [
    "below_min_count_N = min([400, len(counts[0])])\n",
    "above_min_count_N = min([200, len(counts[1])])\n",
    "\n",
    "below_min_list = random.sample(counts[0], below_min_count_N)\n",
    "above_min_list = random.sample(counts[1], above_min_count_N)\n",
    "\n",
    "full_list = below_min_list + above_min_list\n",
    "\n",
    "print(len(above_min_list))\n",
    "print(pd.concat(above_min_list).PAM_Val.value_counts().sort_index())"
   ]
  },
  {
   "cell_type": "code",
   "execution_count": 9,
   "metadata": {},
   "outputs": [
    {
     "name": "stdout",
     "output_type": "stream",
     "text": [
      "1    0.051617\n",
      "2    0.945274\n",
      "3    0.002799\n",
      "4    0.000311\n",
      "Name: PAM_Val, dtype: float64\n"
     ]
    }
   ],
   "source": [
    "seq_len = len(full_list[0])\n",
    "\n",
    "random.shuffle(full_list)\n",
    "user_final = pd.concat(full_list)\n",
    "user_final = user_final.assign(example_id = [index // seq_len for index in range(len(user_final))])\n",
    "\n",
    "print(user_final.PAM_Val.value_counts(normalize=True).sort_index())"
   ]
  },
  {
   "cell_type": "code",
   "execution_count": 10,
   "metadata": {},
   "outputs": [],
   "source": [
    "user_final.to_csv(output_path)"
   ]
  }
 ],
 "metadata": {
  "kernelspec": {
   "display_name": "Python 3",
   "language": "python",
   "name": "python3"
  },
  "language_info": {
   "codemirror_mode": {
    "name": "ipython",
    "version": 3
   },
   "file_extension": ".py",
   "mimetype": "text/x-python",
   "name": "python",
   "nbconvert_exporter": "python",
   "pygments_lexer": "ipython3",
   "version": "3.9.6"
  },
  "orig_nbformat": 4,
  "vscode": {
   "interpreter": {
    "hash": "772f66837d71377a9e91bdceabcb0d3cb18014278592638634865ba084916021"
   }
  }
 },
 "nbformat": 4,
 "nbformat_minor": 2
}

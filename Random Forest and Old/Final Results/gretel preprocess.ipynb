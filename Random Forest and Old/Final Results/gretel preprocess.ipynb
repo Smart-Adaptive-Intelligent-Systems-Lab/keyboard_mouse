{
 "cells": [
  {
   "cell_type": "code",
   "execution_count": 1,
   "metadata": {},
   "outputs": [],
   "source": [
    "import os\n",
    "import pandas as pd\n",
    "import numpy as np"
   ]
  },
  {
   "cell_type": "code",
   "execution_count": 2,
   "metadata": {},
   "outputs": [],
   "source": [
    "seq_len = 8"
   ]
  },
  {
   "cell_type": "code",
   "execution_count": 3,
   "metadata": {},
   "outputs": [
    {
     "name": "stdout",
     "output_type": "stream",
     "text": [
      "                           App_Name  Inactivity Duration(s)  Keystroke_Count  \\\n",
      "Time                                                                           \n",
      "2021-09-10 11:30:00  TextLogger.exe              784.401936            296.0   \n",
      "2021-09-10 12:00:00    explorer.exe              784.401936            296.0   \n",
      "2021-09-10 12:30:00       opera.exe              618.809407           1048.0   \n",
      "2021-09-10 13:00:00       opera.exe             1048.829218            280.0   \n",
      "2021-09-10 13:30:00       opera.exe             1219.861964            348.0   \n",
      "\n",
      "                     Speed(ms)  PAM_Val  \n",
      "Time                                     \n",
      "2021-09-10 11:30:00   2.290322      2.0  \n",
      "2021-09-10 12:00:00   6.713206      2.0  \n",
      "2021-09-10 12:30:00   7.769313      1.0  \n",
      "2021-09-10 13:00:00  10.621018      1.0  \n",
      "2021-09-10 13:30:00   5.499976      2.0  \n",
      "(40, 5)\n"
     ]
    }
   ],
   "source": [
    "user1 = pd.read_csv('user1_preprocessed_2.csv')\n",
    "user2 = pd.read_csv('user2_preprocessed_2.csv')\n",
    "\n",
    "user1 = user1.set_index(pd.DatetimeIndex(user1['Time']))\n",
    "user2 = user2.set_index(pd.DatetimeIndex(user2['Time']))\n",
    "\n",
    "user1.drop(columns='Time', inplace=True)\n",
    "user2.drop(columns='Time', inplace=True)\n",
    "\n",
    "print(user1.head(5))\n",
    "print(user1.shape)"
   ]
  },
  {
   "cell_type": "code",
   "execution_count": 4,
   "metadata": {},
   "outputs": [],
   "source": [
    "#print(user1.App_Name.value_counts())\n",
    "#print(user2.App_Name.value_counts())\n",
    "\n",
    "#factor = pd.factorize(pd.concat([user1['App_Name'], user2['App_Name']]))\n",
    "#user1.App_Name = factor[0][:len(user1)]\n",
    "#user2.App_Name = factor[0][len(user1):]\n",
    "\n",
    "#print(user1.App_Name.value_counts())\n",
    "#print(user2.App_Name.value_counts())"
   ]
  },
  {
   "cell_type": "code",
   "execution_count": 5,
   "metadata": {},
   "outputs": [
    {
     "name": "stdout",
     "output_type": "stream",
     "text": [
      "                           App_Name  Inactivity Duration(s)  Keystroke_Count  \\\n",
      "Time                                                                           \n",
      "2021-09-10 11:30:00  TextLogger.exe              784.401936            296.0   \n",
      "2021-09-10 12:00:00    explorer.exe              784.401936            296.0   \n",
      "2021-09-10 12:30:00       opera.exe              618.809407           1048.0   \n",
      "2021-09-10 13:00:00       opera.exe             1048.829218            280.0   \n",
      "2021-09-10 13:30:00       opera.exe             1219.861964            348.0   \n",
      "\n",
      "                     Speed(ms)  PAM_Val  \n",
      "Time                                     \n",
      "2021-09-10 11:30:00   2.290322      2.0  \n",
      "2021-09-10 12:00:00   6.713206      2.0  \n",
      "2021-09-10 12:30:00   7.769313      1.0  \n",
      "2021-09-10 13:00:00  10.621018      1.0  \n",
      "2021-09-10 13:30:00   5.499976      2.0  \n"
     ]
    }
   ],
   "source": [
    "print(user1.head(5))"
   ]
  },
  {
   "cell_type": "code",
   "execution_count": 6,
   "metadata": {},
   "outputs": [
    {
     "name": "stdout",
     "output_type": "stream",
     "text": [
      "[15, 8, 17]\n",
      "[22, 18, 17, 9, 13, 15]\n"
     ]
    }
   ],
   "source": [
    "def convert_to_list_of_trajectories(df, seq_len):\n",
    "    timedelta = pd.Timedelta(minutes=30)\n",
    "\n",
    "    currDatetime = df.index[0]\n",
    "    startDatetime = currDatetime\n",
    "    endDatetime = currDatetime\n",
    "\n",
    "    # split into trajectories\n",
    "    trajectories = []\n",
    "    while currDatetime != df.index[-1] + timedelta:\n",
    "        if currDatetime + timedelta not in df.index:\n",
    "            if currDatetime in df.index:\n",
    "                endDatetime = currDatetime\n",
    "\n",
    "                trajectories.append(df[startDatetime : endDatetime])\n",
    "\n",
    "                currDatetime += timedelta\n",
    "                startDatetime = currDatetime\n",
    "            else:\n",
    "                currDatetime += timedelta\n",
    "                startDatetime = currDatetime\n",
    "        else:\n",
    "            currDatetime += timedelta\n",
    "\n",
    "    print([len(trajectory) for trajectory in trajectories])\n",
    "\n",
    "    data = []\n",
    "    for trajectory in trajectories:\n",
    "        temp_data = []\n",
    "        # Cut data by sequence length\n",
    "        for i in range(0, len(trajectory) - seq_len):\n",
    "            _x = trajectory[i:i + seq_len]\n",
    "            temp_data.append(_x)\n",
    "        data += temp_data\n",
    "\n",
    "    # Mix the datasets (to make it similar to i.i.d)\n",
    "    idx = np.random.permutation(len(data))\n",
    "    processed_data = []\n",
    "    for i in range(len(data)):\n",
    "        processed_data.append(data[idx[i]])\n",
    "\n",
    "    return processed_data\n",
    "    #return data\n",
    "\n",
    "user1_traj = convert_to_list_of_trajectories(user1, seq_len)\n",
    "user2_traj = convert_to_list_of_trajectories(user2, seq_len)"
   ]
  },
  {
   "cell_type": "code",
   "execution_count": 7,
   "metadata": {},
   "outputs": [
    {
     "name": "stdout",
     "output_type": "stream",
     "text": [
      "16\n",
      "46\n"
     ]
    }
   ],
   "source": [
    "#user1_temp = []\n",
    "#for index, traj in enumerate(user1_traj):\n",
    "#    if traj.PAM_Val.nunique() > 2:\n",
    "#        user1_temp.append(traj)\n",
    "\n",
    "#user2_temp = []\n",
    "#for index, traj in enumerate(user2_traj):\n",
    "#    if traj.PAM_Val.nunique() > 2:\n",
    "#        user2_temp.append(traj)\n",
    "\n",
    "\n",
    "# ==============\n",
    "def filter_to_minority(user_traj):\n",
    "    user_temp = []\n",
    "    for index, traj in enumerate(user_traj):\n",
    "        minority_count = 0\n",
    "        val_counts = traj.PAM_Val.value_counts().sort_index()\n",
    "        #print(val_counts)\n",
    "        if 3 in val_counts.index:\n",
    "            minority_count += val_counts.loc[3]\n",
    "        if 4 in val_counts.index:\n",
    "            minority_count += val_counts.loc[4]\n",
    "        if minority_count >= 2:\n",
    "            user_temp.append(traj)\n",
    "\n",
    "    return user_temp\n",
    "\n",
    "#user1_temp = filter_to_minority(user1_traj)\n",
    "#user2_temp = filter_to_minority(user2_traj)\n",
    "\n",
    "# ==============\n",
    "\n",
    "#print(len(user1_traj), len(user1_temp))\n",
    "#print(len(user2_traj), len(user2_temp))\n",
    "\n",
    "#user1_traj = user1_temp\n",
    "#user2_traj = user2_temp\n",
    "\n",
    "print(len(user1_traj))\n",
    "print(len(user2_traj))"
   ]
  },
  {
   "cell_type": "code",
   "execution_count": 8,
   "metadata": {},
   "outputs": [],
   "source": [
    "user1 = pd.concat(user1_traj)\n",
    "user2 = pd.concat(user2_traj)"
   ]
  },
  {
   "cell_type": "code",
   "execution_count": 9,
   "metadata": {},
   "outputs": [
    {
     "name": "stdout",
     "output_type": "stream",
     "text": [
      "2.0    52\n",
      "1.0    44\n",
      "3.0    16\n",
      "4.0    16\n",
      "Name: PAM_Val, dtype: int64\n"
     ]
    }
   ],
   "source": [
    "print(user1.PAM_Val.value_counts())"
   ]
  },
  {
   "cell_type": "code",
   "execution_count": 10,
   "metadata": {},
   "outputs": [
    {
     "name": "stdout",
     "output_type": "stream",
     "text": [
      "                         App_Name  Inactivity Duration(s)  Keystroke_Count  \\\n",
      "Time                                                                         \n",
      "2021-09-10 13:30:00     opera.exe             1219.861964            348.0   \n",
      "2021-09-10 14:00:00     opera.exe              663.780873            262.0   \n",
      "2021-09-10 14:30:00     opera.exe              871.821915            458.0   \n",
      "2021-09-10 15:00:00     opera.exe             1585.753779             57.0   \n",
      "2021-09-10 15:30:00     opera.exe             1034.388266            171.0   \n",
      "...                           ...                     ...              ...   \n",
      "2021-09-09 11:00:00  explorer.exe             2482.386615             31.0   \n",
      "2021-09-09 11:30:00  explorer.exe             2309.364528             87.0   \n",
      "2021-09-09 12:00:00  explorer.exe             2966.810912            197.0   \n",
      "2021-09-09 12:30:00  explorer.exe             2442.706585            361.0   \n",
      "2021-09-09 13:00:00  explorer.exe             2038.423218             95.0   \n",
      "\n",
      "                     Speed(ms)  PAM_Val  \n",
      "Time                                     \n",
      "2021-09-10 13:30:00   5.499976      2.0  \n",
      "2021-09-10 14:00:00   5.671917      1.0  \n",
      "2021-09-10 14:30:00   7.329196      2.0  \n",
      "2021-09-10 15:00:00  13.973504      2.0  \n",
      "2021-09-10 15:30:00  11.074431      3.0  \n",
      "...                        ...      ...  \n",
      "2021-09-09 11:00:00   4.160835      2.0  \n",
      "2021-09-09 11:30:00   4.530694      2.0  \n",
      "2021-09-09 12:00:00   3.729338      2.0  \n",
      "2021-09-09 12:30:00   4.301889      2.0  \n",
      "2021-09-09 13:00:00   4.419579      2.0  \n",
      "\n",
      "[496 rows x 5 columns]\n"
     ]
    }
   ],
   "source": [
    "user_comb = pd.concat([user1, user2])\n",
    "print(user_comb)"
   ]
  },
  {
   "cell_type": "code",
   "execution_count": 11,
   "metadata": {},
   "outputs": [
    {
     "name": "stdout",
     "output_type": "stream",
     "text": [
      "                         App_Name  Inactivity Duration(s)  Keystroke_Count  \\\n",
      "Time                                                                         \n",
      "2021-09-10 13:30:00     opera.exe             1219.861964            348.0   \n",
      "2021-09-10 14:00:00     opera.exe              663.780873            262.0   \n",
      "2021-09-10 14:30:00     opera.exe              871.821915            458.0   \n",
      "2021-09-10 15:00:00     opera.exe             1585.753779             57.0   \n",
      "2021-09-10 15:30:00     opera.exe             1034.388266            171.0   \n",
      "...                           ...                     ...              ...   \n",
      "2021-09-09 11:00:00  explorer.exe             2482.386615             31.0   \n",
      "2021-09-09 11:30:00  explorer.exe             2309.364528             87.0   \n",
      "2021-09-09 12:00:00  explorer.exe             2966.810912            197.0   \n",
      "2021-09-09 12:30:00  explorer.exe             2442.706585            361.0   \n",
      "2021-09-09 13:00:00  explorer.exe             2038.423218             95.0   \n",
      "\n",
      "                     Speed(ms)  PAM_Val  example_id  \n",
      "Time                                                 \n",
      "2021-09-10 13:30:00   5.499976      2.0           0  \n",
      "2021-09-10 14:00:00   5.671917      1.0           0  \n",
      "2021-09-10 14:30:00   7.329196      2.0           0  \n",
      "2021-09-10 15:00:00  13.973504      2.0           0  \n",
      "2021-09-10 15:30:00  11.074431      3.0           0  \n",
      "...                        ...      ...         ...  \n",
      "2021-09-09 11:00:00   4.160835      2.0          61  \n",
      "2021-09-09 11:30:00   4.530694      2.0          61  \n",
      "2021-09-09 12:00:00   3.729338      2.0          61  \n",
      "2021-09-09 12:30:00   4.301889      2.0          61  \n",
      "2021-09-09 13:00:00   4.419579      2.0          61  \n",
      "\n",
      "[496 rows x 6 columns]\n"
     ]
    }
   ],
   "source": [
    "user_comb = user_comb.assign(example_id = [index // seq_len for index in range(len(user_comb))])\n",
    "print(user_comb)"
   ]
  },
  {
   "cell_type": "code",
   "execution_count": 12,
   "metadata": {},
   "outputs": [],
   "source": [
    "user_comb.to_csv('./preprocessed_gretel.csv')"
   ]
  }
 ],
 "metadata": {
  "kernelspec": {
   "display_name": "Python 3",
   "language": "python",
   "name": "python3"
  },
  "language_info": {
   "codemirror_mode": {
    "name": "ipython",
    "version": 3
   },
   "file_extension": ".py",
   "mimetype": "text/x-python",
   "name": "python",
   "nbconvert_exporter": "python",
   "pygments_lexer": "ipython3",
   "version": "3.9.6"
  },
  "orig_nbformat": 4,
  "vscode": {
   "interpreter": {
    "hash": "772f66837d71377a9e91bdceabcb0d3cb18014278592638634865ba084916021"
   }
  }
 },
 "nbformat": 4,
 "nbformat_minor": 2
}

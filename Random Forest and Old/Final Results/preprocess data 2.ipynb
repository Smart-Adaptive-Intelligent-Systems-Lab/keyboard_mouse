{
 "cells": [
  {
   "cell_type": "code",
   "execution_count": 1,
   "metadata": {},
   "outputs": [],
   "source": [
    "import os\n",
    "import pandas as pd\n",
    "from math import floor, ceil\n",
    "from statistics import mean, median, mode"
   ]
  },
  {
   "cell_type": "code",
   "execution_count": 2,
   "metadata": {},
   "outputs": [],
   "source": [
    "# Goal dataframe structure\n",
    "# timestamp (min), speed, keystrokes, active window (app name), inactive time, PAM\n",
    "\n",
    "# speed: average\n",
    "# keystrokes: sum\n",
    "# active window: mode\n",
    "# inactive time: sum\n",
    "# PAM: none (no duplicates in a minute)\n",
    "\n",
    "# mousedata.tsv not needed"
   ]
  },
  {
   "cell_type": "code",
   "execution_count": 3,
   "metadata": {},
   "outputs": [],
   "source": [
    "# PAM (photographic affect meter): a tool/app that measures emotion (aka affect)\n",
    "# by showing photographs and asking users to select the one that best matches their mood\n",
    "\n",
    "# Valence: pleasurable or not\n",
    "# Arousal: activation or deactivation\n",
    "\n",
    "#                 High Arousal\n",
    "#             +------------------+\n",
    "#             | 6 | 8 || 14 | 16 |\n",
    "#             +------------------+\n",
    "#             | 5 | 7 || 13 | 15 |\n",
    "# Low Valence +==================+ High Valence\n",
    "#             | 2 | 4 || 10 | 12 |\n",
    "#             +------------------+\n",
    "#             | 1 | 3 ||  9 | 11 |\n",
    "#             +------------------+\n",
    "#                 Low Arousal\n",
    "\n",
    "# https://dl.acm.org/doi/10.1145/1978942.1979047\n",
    "\n",
    "\n",
    "\n",
    "# looks like we can group values into buckets of 4\n",
    "# (1, 2, 3, 4), (5, 6, 7, 8), (9, 10, 11, 12), (13, 14, 15, 16)"
   ]
  },
  {
   "cell_type": "code",
   "execution_count": 4,
   "metadata": {},
   "outputs": [],
   "source": [
    "root_path = os.path.abspath('./archive/Data')\n",
    "\n",
    "user1_path = os.path.join(root_path, 'user 1')\n",
    "user2_path = os.path.join(root_path, 'user 2')"
   ]
  },
  {
   "cell_type": "code",
   "execution_count": 5,
   "metadata": {},
   "outputs": [],
   "source": [
    "# read data from all files\n",
    "def read_data(user_path: str, file_path: str):\n",
    "    data = pd.read_csv(os.path.join(user_path, file_path), sep='\\t')\n",
    "    data.drop(data.filter(regex=\"Unnamed: \"), axis=1, inplace=True)\n",
    "    return data\n",
    "\n",
    "activewindows_user1 = read_data(user1_path, 'activewindows.tsv')\n",
    "inactivity_user1 = read_data(user1_path, 'inactivity.tsv')\n",
    "keystrokes_user1 = read_data(user1_path, 'keystrokes.tsv')\n",
    "mouse_mov_speeds_user1 = read_data(user1_path, 'mouse_mov_speeds.tsv')\n",
    "#mousedata_user1 = read_data(user1_path, 'mousedata.tsv')\n",
    "usercondition_user1 = read_data(user1_path, 'usercondition.tsv')\n",
    "\n",
    "activewindows_user2 = read_data(user2_path, 'activewindows.tsv')\n",
    "inactivity_user2 = read_data(user2_path, 'inactivity.tsv')\n",
    "keystrokes_user2 = read_data(user2_path, 'keystrokes.tsv')\n",
    "mouse_mov_speeds_user2 = read_data(user2_path, 'mouse_mov_speeds.tsv')\n",
    "#mousedata_user2 = read_data(user2_path, 'mousedata.tsv')\n",
    "usercondition_user2 = read_data(user2_path, 'usercondition.tsv')"
   ]
  },
  {
   "cell_type": "code",
   "execution_count": 6,
   "metadata": {},
   "outputs": [
    {
     "name": "stdout",
     "output_type": "stream",
     "text": [
      "Time          object\n",
      "Speed(ms)    float64\n",
      "Daylight      object\n",
      "dtype: object\n",
      "Time         datetime64[ns]\n",
      "Speed(ms)           float64\n",
      "Daylight             object\n",
      "dtype: object\n"
     ]
    }
   ],
   "source": [
    "# convert times to datetime type and floor to minutes\n",
    "def convert_to_datetime(dataframe, index):\n",
    "    return pd.to_datetime(dataframe.iloc[:,index]).dt.floor('30Min')\n",
    "\n",
    "print(mouse_mov_speeds_user1.dtypes)\n",
    "\n",
    "activewindows_user1.iloc[:,0] = convert_to_datetime(activewindows_user1, 0)\n",
    "\n",
    "inactivity_user1.iloc[:,1] = convert_to_datetime(inactivity_user1, 1)\n",
    "inactivity_user1.iloc[:,2] = convert_to_datetime(inactivity_user1, 2)\n",
    "\n",
    "keystrokes_user1.iloc[:,1] = convert_to_datetime(keystrokes_user1, 1)\n",
    "keystrokes_user1.iloc[:,2] = convert_to_datetime(keystrokes_user1, 2)\n",
    "\n",
    "mouse_mov_speeds_user1.iloc[:,0] = convert_to_datetime(mouse_mov_speeds_user1, 0)\n",
    "\n",
    "#mousedata_user1.iloc[:,0] = convert_to_datetime(mousedata_user1, 0)\n",
    "\n",
    "usercondition_user1.iloc[:,0] = convert_to_datetime(usercondition_user1, 0)\n",
    "\n",
    "# =========================================================\n",
    "\n",
    "activewindows_user2.iloc[:,0] = convert_to_datetime(activewindows_user2, 0)\n",
    "\n",
    "inactivity_user2.iloc[:,1] = convert_to_datetime(inactivity_user2, 1)\n",
    "inactivity_user2.iloc[:,2] = convert_to_datetime(inactivity_user2, 2)\n",
    "\n",
    "keystrokes_user2.iloc[:,1] = convert_to_datetime(keystrokes_user2, 1)\n",
    "keystrokes_user2.iloc[:,2] = convert_to_datetime(keystrokes_user2, 2)\n",
    "\n",
    "mouse_mov_speeds_user2.iloc[:,0] = convert_to_datetime(mouse_mov_speeds_user2, 0)\n",
    "\n",
    "#mousedata_user2.iloc[:,0] = convert_to_datetime(mousedata_user2, 0)\n",
    "\n",
    "usercondition_user2.iloc[:,0] = convert_to_datetime(usercondition_user2, 0)\n",
    "\n",
    "print(mouse_mov_speeds_user1.dtypes)"
   ]
  },
  {
   "cell_type": "code",
   "execution_count": 7,
   "metadata": {},
   "outputs": [
    {
     "name": "stdout",
     "output_type": "stream",
     "text": [
      "          Type        Stopped_Time      Activated_Time  Duration(s)   Daylight\n",
      "0        Mouse 2021-09-10 12:00:00 2021-09-10 12:00:00     6.255278  Afternoon\n",
      "1        Mouse 2021-09-10 12:00:00 2021-09-10 12:00:00     5.773566  Afternoon\n",
      "2        Mouse 2021-09-10 12:00:00 2021-09-10 12:00:00    10.883905  Afternoon\n",
      "3        Mouse 2021-09-10 12:00:00 2021-09-10 12:00:00     5.108344  Afternoon\n",
      "4        Mouse 2021-09-10 12:00:00 2021-09-10 12:00:00     6.071766  Afternoon\n",
      "...        ...                 ...                 ...          ...        ...\n",
      "2030     Mouse 2021-09-14 18:30:00 2021-09-14 18:30:00     6.928456    Evening\n",
      "2031  Keyboard 2021-09-14 18:30:00 2021-09-14 18:30:00     5.315702    Evening\n",
      "2032  Keyboard 2021-09-14 18:30:00 2021-09-14 18:30:00     9.716997    Evening\n",
      "2033  Keyboard 2021-09-14 18:30:00 2021-09-14 18:30:00    18.270108    Evening\n",
      "2034     Mouse 2021-09-14 18:30:00 2021-09-14 18:30:00     9.101637    Evening\n",
      "\n",
      "[2035 rows x 5 columns]\n",
      "       Type        Stopped_Time      Activated_Time  Duration(s)   Daylight\n",
      "0     Mouse 2021-09-10 12:00:00 2021-09-10 12:00:00     6.255278  Afternoon\n",
      "1     Mouse 2021-09-10 12:00:00 2021-09-10 12:00:00     5.773566  Afternoon\n",
      "2     Mouse 2021-09-10 12:00:00 2021-09-10 12:00:00    10.883905  Afternoon\n",
      "3     Mouse 2021-09-10 12:00:00 2021-09-10 12:00:00     5.108344  Afternoon\n",
      "4     Mouse 2021-09-10 12:00:00 2021-09-10 12:00:00     6.071766  Afternoon\n",
      "...     ...                 ...                 ...          ...        ...\n",
      "2025  Mouse 2021-09-14 18:30:00 2021-09-14 18:30:00    12.297091    Evening\n",
      "2026  Mouse 2021-09-14 18:30:00 2021-09-14 18:30:00    28.811897    Evening\n",
      "2029  Mouse 2021-09-14 18:30:00 2021-09-14 18:30:00    13.008190    Evening\n",
      "2030  Mouse 2021-09-14 18:30:00 2021-09-14 18:30:00     6.928456    Evening\n",
      "2034  Mouse 2021-09-14 18:30:00 2021-09-14 18:30:00     9.101637    Evening\n",
      "\n",
      "[1256 rows x 5 columns]\n"
     ]
    }
   ],
   "source": [
    "# we only care about mouse inactivity\n",
    "print(inactivity_user1)\n",
    "\n",
    "inactivity_user1 = inactivity_user1[inactivity_user1.Type == 'Mouse']\n",
    "\n",
    "print(inactivity_user1)"
   ]
  },
  {
   "cell_type": "code",
   "execution_count": 8,
   "metadata": {},
   "outputs": [
    {
     "name": "stdout",
     "output_type": "stream",
     "text": [
      "                     Time  Speed(ms)   Daylight\n",
      "0     2021-09-10 11:30:00   0.993728  Afternoon\n",
      "1     2021-09-10 11:30:00   0.993729  Afternoon\n",
      "2     2021-09-10 11:30:00   0.997684  Afternoon\n",
      "3     2021-09-10 11:30:00   1.995367  Afternoon\n",
      "4     2021-09-10 11:30:00   0.998678  Afternoon\n",
      "...                   ...        ...        ...\n",
      "19841 2021-09-14 18:30:00  14.920786    Evening\n",
      "19842 2021-09-14 18:30:00   0.908916    Evening\n",
      "19843 2021-09-14 18:30:00   1.183578    Evening\n",
      "19844 2021-09-14 18:30:00   0.988831    Evening\n",
      "19845 2021-09-14 18:30:00   0.995706    Evening\n",
      "\n",
      "[19846 rows x 3 columns]\n",
      "                     Time  Speed(ms)\n",
      "0     2021-09-10 11:30:00   0.993728\n",
      "1     2021-09-10 11:30:00   0.993729\n",
      "2     2021-09-10 11:30:00   0.997684\n",
      "3     2021-09-10 11:30:00   1.995367\n",
      "4     2021-09-10 11:30:00   0.998678\n",
      "...                   ...        ...\n",
      "19841 2021-09-14 18:30:00  14.920786\n",
      "19842 2021-09-14 18:30:00   0.908916\n",
      "19843 2021-09-14 18:30:00   1.183578\n",
      "19844 2021-09-14 18:30:00   0.988831\n",
      "19845 2021-09-14 18:30:00   0.995706\n",
      "\n",
      "[19846 rows x 2 columns]\n"
     ]
    }
   ],
   "source": [
    "# filter to desired columns\n",
    "def filter_cols(dataframe, cols_to_keep):\n",
    "    dataframe.drop(dataframe.columns.difference(cols_to_keep), axis=1, inplace=True)\n",
    "\n",
    "print(mouse_mov_speeds_user1)\n",
    "\n",
    "filter_cols(activewindows_user1, ['Time', 'App_Name'])\n",
    "filter_cols(inactivity_user1, ['Activated_Time', 'Duration(s)'])\n",
    "filter_cols(keystrokes_user1, ['Time', 'Press_Time', 'Relase_Time'])\n",
    "filter_cols(mouse_mov_speeds_user1, ['Time', 'Speed(ms)'])\n",
    "filter_cols(usercondition_user1, ['Time', 'PAM_Val'])\n",
    "\n",
    "filter_cols(activewindows_user2, ['Time', 'App_Name'])\n",
    "filter_cols(inactivity_user2, ['Activated_Time', 'Duration(s)'])\n",
    "filter_cols(keystrokes_user2, ['Time', 'Press_Time', 'Relase_Time'])\n",
    "filter_cols(mouse_mov_speeds_user2, ['Time', 'Speed(ms)'])\n",
    "filter_cols(usercondition_user2, ['Time', 'PAM_Val'])\n",
    "\n",
    "print(mouse_mov_speeds_user1)"
   ]
  },
  {
   "cell_type": "code",
   "execution_count": 9,
   "metadata": {},
   "outputs": [
    {
     "name": "stdout",
     "output_type": "stream",
     "text": [
      "2     7\n",
      "3     4\n",
      "8     4\n",
      "14    3\n",
      "7     3\n",
      "4     2\n",
      "9     2\n",
      "1     2\n",
      "6     2\n",
      "5     1\n",
      "13    1\n",
      "15    1\n",
      "10    1\n",
      "Name: PAM_Val, dtype: int64\n",
      "1    15\n",
      "2    10\n",
      "4     5\n",
      "3     3\n",
      "Name: PAM_Val, dtype: int64\n"
     ]
    }
   ],
   "source": [
    "# shows that PAM has no duplicates in a minute\n",
    "#duplicateRows = usercondition_user2[usercondition_user2.duplicated(['Time'])]\n",
    "#print(duplicateRows)\n",
    "\n",
    "# groups PAM values into groups of 4\n",
    "# (1, 2, 3, 4), (5, 6, 7, 8), (9, 10, 11, 12), (13, 14, 15, 16) => (1), (2), (3), (4)\n",
    "\n",
    "print(usercondition_user1.PAM_Val.value_counts())\n",
    "\n",
    "usercondition_user1['PAM_Val'] = usercondition_user1['PAM_Val'].replace([1, 2, 3, 4], 1)\n",
    "usercondition_user1['PAM_Val'] = usercondition_user1['PAM_Val'].replace([5, 6, 7, 8], 2)\n",
    "usercondition_user1['PAM_Val'] = usercondition_user1['PAM_Val'].replace([9, 10, 11, 12], 3)\n",
    "usercondition_user1['PAM_Val'] = usercondition_user1['PAM_Val'].replace([13, 14, 15, 16], 4)\n",
    "\n",
    "usercondition_user2['PAM_Val'] = usercondition_user2['PAM_Val'].replace([1, 2, 3, 4], 1)\n",
    "usercondition_user2['PAM_Val'] = usercondition_user2['PAM_Val'].replace([5, 6, 7, 8], 2)\n",
    "usercondition_user2['PAM_Val'] = usercondition_user2['PAM_Val'].replace([9, 10, 11, 12], 3)\n",
    "usercondition_user2['PAM_Val'] = usercondition_user2['PAM_Val'].replace([13, 14, 15, 16], 4)\n",
    "\n",
    "print(usercondition_user1.PAM_Val.value_counts())"
   ]
  },
  {
   "cell_type": "code",
   "execution_count": 10,
   "metadata": {},
   "outputs": [
    {
     "name": "stdout",
     "output_type": "stream",
     "text": [
      "User 1\n",
      "1    15\n",
      "2    10\n",
      "4     5\n",
      "3     3\n",
      "Name: PAM_Val, dtype: int64\n",
      "\n",
      "User 2\n",
      "2    37\n",
      "1    14\n",
      "3    11\n",
      "4     3\n",
      "Name: PAM_Val, dtype: int64\n"
     ]
    }
   ],
   "source": [
    "print('User 1')\n",
    "print(usercondition_user1.PAM_Val.value_counts())\n",
    "print()\n",
    "print('User 2')\n",
    "print(usercondition_user2.PAM_Val.value_counts())"
   ]
  },
  {
   "cell_type": "code",
   "execution_count": 11,
   "metadata": {},
   "outputs": [
    {
     "name": "stdout",
     "output_type": "stream",
     "text": [
      "          Activated_Time  Duration(s)\n",
      "0    2021-09-10 12:00:00     6.255278\n",
      "1    2021-09-10 12:00:00     5.773566\n",
      "2    2021-09-10 12:00:00    10.883905\n",
      "3    2021-09-10 12:00:00     5.108344\n",
      "4    2021-09-10 12:00:00     6.071766\n",
      "...                  ...          ...\n",
      "2025 2021-09-14 18:30:00    12.297091\n",
      "2026 2021-09-14 18:30:00    28.811897\n",
      "2029 2021-09-14 18:30:00    13.008190\n",
      "2030 2021-09-14 18:30:00     6.928456\n",
      "2034 2021-09-14 18:30:00     9.101637\n",
      "\n",
      "[1256 rows x 2 columns]\n",
      "                     Inactivity Duration(s)\n",
      "Activated_Time                             \n",
      "2021-09-10 12:00:00              784.401936\n",
      "2021-09-10 12:30:00              618.809407\n",
      "2021-09-10 13:00:00             1048.829218\n",
      "2021-09-10 13:30:00             1219.861964\n",
      "2021-09-10 14:00:00              663.780873\n",
      "2021-09-10 14:30:00              871.821915\n",
      "2021-09-10 15:00:00             1585.753779\n",
      "2021-09-10 15:30:00             1034.388266\n",
      "2021-09-10 16:00:00              723.750394\n",
      "2021-09-10 16:30:00             1096.649810\n",
      "2021-09-10 17:00:00             1129.243338\n",
      "2021-09-10 17:30:00              999.431672\n",
      "2021-09-10 18:00:00              680.523298\n",
      "2021-09-10 18:30:00              404.327968\n",
      "2021-09-13 11:00:00              562.625867\n",
      "2021-09-13 11:30:00              680.892345\n",
      "2021-09-13 12:00:00              590.401456\n",
      "2021-09-13 12:30:00             1062.421481\n",
      "2021-09-13 13:00:00              588.260420\n",
      "2021-09-13 13:30:00             1175.121800\n",
      "2021-09-13 14:00:00             1210.531504\n",
      "2021-09-13 14:30:00             1021.323029\n",
      "2021-09-14 10:30:00             1002.831345\n",
      "2021-09-14 11:00:00             1293.995927\n",
      "2021-09-14 11:30:00              714.970757\n",
      "2021-09-14 12:00:00              552.622641\n",
      "2021-09-14 12:30:00             1055.705093\n",
      "2021-09-14 13:00:00              777.054938\n",
      "2021-09-14 13:30:00              982.384028\n",
      "2021-09-14 14:00:00             1038.762199\n",
      "2021-09-14 14:30:00              799.554728\n",
      "2021-09-14 15:00:00             1783.372377\n",
      "2021-09-14 15:30:00              859.896773\n",
      "2021-09-14 16:00:00              599.140360\n",
      "2021-09-14 16:30:00              910.197887\n",
      "2021-09-14 17:00:00              934.832046\n",
      "2021-09-14 17:30:00              990.461271\n",
      "2021-09-14 18:00:00              976.256750\n",
      "2021-09-14 18:30:00              445.300070\n"
     ]
    }
   ],
   "source": [
    "# combines/aggregates values in the same minute\n",
    "# side effect is that time is now the index, but can be fixed afterwards if needed\n",
    "\n",
    "# speed: average\n",
    "# keystrokes: sum\n",
    "# active window: mode\n",
    "# inactive time: sum\n",
    "# PAM: none (no duplicates in a minute)\n",
    "\n",
    "def median_rounded(input_list):\n",
    "    median_list = median(input_list)\n",
    "    mean_list = mean(input_list)\n",
    "\n",
    "    if median_list < mean_list:\n",
    "        median_list = ceil(median_list)\n",
    "    else:\n",
    "        median_list = floor(median_list)\n",
    "\n",
    "    return median_list\n",
    "\n",
    "\n",
    "print(inactivity_user1)\n",
    "\n",
    "activewindows_user1 = activewindows_user1.groupby(activewindows_user1['Time']).aggregate({'App_Name': mode})\n",
    "inactivity_user1 = inactivity_user1.groupby(inactivity_user1['Activated_Time']).aggregate({'Duration(s)': 'sum'})\n",
    "inactivity_user1.columns = ['Inactivity Duration(s)']\n",
    "keystrokes_user1 = keystrokes_user1.groupby(keystrokes_user1['Relase_Time']).aggregate({'Press_Time': 'count'})\n",
    "keystrokes_user1.columns = ['Keystroke_Count']\n",
    "mouse_mov_speeds_user1 = mouse_mov_speeds_user1.groupby(mouse_mov_speeds_user1['Time']).aggregate({'Speed(ms)': 'mean'})\n",
    "usercondition_user1 = usercondition_user1.groupby(usercondition_user1['Time']).aggregate({'PAM_Val': median_rounded})\n",
    "\n",
    "activewindows_user2 = activewindows_user2.groupby(activewindows_user2['Time']).aggregate({'App_Name': mode})\n",
    "inactivity_user2 = inactivity_user2.groupby(inactivity_user2['Activated_Time']).aggregate({'Duration(s)': 'sum'})\n",
    "inactivity_user2.columns = ['Inactivity Duration(s)']\n",
    "keystrokes_user2 = keystrokes_user2.groupby(keystrokes_user2['Relase_Time']).aggregate({'Press_Time': 'count'})\n",
    "keystrokes_user2.columns = ['Keystroke_Count']\n",
    "mouse_mov_speeds_user2 = mouse_mov_speeds_user2.groupby(mouse_mov_speeds_user2['Time']).aggregate({'Speed(ms)': 'mean'})\n",
    "usercondition_user2 = usercondition_user2.groupby(usercondition_user2['Time']).aggregate({'PAM_Val': median_rounded})\n",
    "\n",
    "print(inactivity_user1)"
   ]
  },
  {
   "cell_type": "code",
   "execution_count": 12,
   "metadata": {},
   "outputs": [
    {
     "name": "stdout",
     "output_type": "stream",
     "text": [
      "Index(['App_Name', 'Inactivity Duration(s)', 'Keystroke_Count', 'Speed(ms)',\n",
      "       'PAM_Val'],\n",
      "      dtype='object')\n"
     ]
    }
   ],
   "source": [
    "# combine (full outer join) all the dataframes together\n",
    "comb_user1 = activewindows_user1.join(inactivity_user1).join(keystrokes_user1).join(mouse_mov_speeds_user1).join(usercondition_user1)\n",
    "comb_user2 = activewindows_user2.join(inactivity_user2).join(keystrokes_user2).join(mouse_mov_speeds_user2).join(usercondition_user2)\n",
    "\n",
    "print(comb_user1.columns)"
   ]
  },
  {
   "cell_type": "code",
   "execution_count": 13,
   "metadata": {},
   "outputs": [],
   "source": [
    "# manually adding certain timestamps\n",
    "# some sequences are missing 1 timestamp, which would typically split into 2 sequences in handle_missing_data()\n",
    "# all_data = all_data.sort_index()\n",
    "#comb_user2"
   ]
  },
  {
   "cell_type": "code",
   "execution_count": 14,
   "metadata": {},
   "outputs": [],
   "source": [
    "# performs interpolation imputation based on contiguous* groups of time\n",
    "# *allows a grace period with no timestamps\n",
    "def handle_missing_data(df, timestamp_grace_period):\n",
    "    '''\n",
    "    timestamp_grace_period - int :\n",
    "        how many missing timestamps are allowed before it counts as a new contiguous group of time.\n",
    "        also adds these missing timestamps into the dataframe\n",
    "    '''\n",
    "    timedelta = pd.Timedelta(minutes=30)\n",
    "\n",
    "    currDatetime = df.index[0]\n",
    "    startDatetime = currDatetime\n",
    "    endDatetime = currDatetime\n",
    "    missing_timestamp_counter = 0\n",
    "\n",
    "    while currDatetime != df.index[-1] + timedelta:\n",
    "        if missing_timestamp_counter > 0:\n",
    "            if currDatetime + timedelta in df.index:\n",
    "                missing_timestamp_counter = 0\n",
    "                currDatetime += timedelta\n",
    "            else:\n",
    "                missing_timestamp_counter += 1\n",
    "                if missing_timestamp_counter > timestamp_grace_period:\n",
    "\n",
    "                    before = df[:startDatetime - timedelta]\n",
    "                    after = df[endDatetime:]\n",
    "                    changed = df[startDatetime : endDatetime].resample('30Min').asfreq().interpolate(method='time', limit_direction='both').interpolate(method='pad')\n",
    "\n",
    "                    df = pd.concat([before, changed, after])\n",
    "                    \n",
    "                    currDatetime += timedelta\n",
    "                    startDatetime = currDatetime\n",
    "                    missing_timestamp_counter = 0\n",
    "                else:\n",
    "                    currDatetime += timedelta\n",
    "        else:\n",
    "            if startDatetime in df.index:\n",
    "                if currDatetime + timedelta in df.index:\n",
    "                    currDatetime += timedelta\n",
    "                elif currDatetime == df.index[-1]:\n",
    "                    before = df[:startDatetime - timedelta]\n",
    "                    changed = df[startDatetime:].resample('30Min').asfreq().interpolate(method='time', limit_direction='both').interpolate(method='pad')\n",
    "\n",
    "                    df = pd.concat([before, changed])\n",
    "\n",
    "                    currDatetime += timedelta\n",
    "                else:\n",
    "                    missing_timestamp_counter += 1\n",
    "                    currDatetime += timedelta\n",
    "                    endDatetime = currDatetime\n",
    "            else:\n",
    "                currDatetime += timedelta\n",
    "                startDatetime = currDatetime\n",
    "\n",
    "    return df\n",
    "\n",
    "\n",
    "comb_user1 = handle_missing_data(comb_user1, 2)\n",
    "comb_user1['Keystroke_Count'] = comb_user1['Keystroke_Count'].round()\n",
    "comb_user1['PAM_Val'] = comb_user1['PAM_Val'].round()\n",
    "\n",
    "comb_user2 = handle_missing_data(comb_user2, 2)\n",
    "comb_user2['Keystroke_Count'] = comb_user2['Keystroke_Count'].round()\n",
    "comb_user2['PAM_Val'] = comb_user2['PAM_Val'].round()\n",
    "#comb_user2['App_Name'] = comb_user2['App_Name'].interpolate(method='pad')       # user 2 has some missing values in app name"
   ]
  },
  {
   "cell_type": "code",
   "execution_count": 15,
   "metadata": {},
   "outputs": [
    {
     "name": "stdout",
     "output_type": "stream",
     "text": [
      "                           App_Name  Inactivity Duration(s)  Keystroke_Count  \\\n",
      "Time                                                                           \n",
      "2021-09-10 11:30:00  TextLogger.exe              784.401936            296.0   \n",
      "2021-09-10 12:00:00    explorer.exe              784.401936            296.0   \n",
      "2021-09-10 12:30:00       opera.exe              618.809407           1048.0   \n",
      "2021-09-10 13:00:00       opera.exe             1048.829218            280.0   \n",
      "2021-09-10 13:30:00       opera.exe             1219.861964            348.0   \n",
      "2021-09-10 14:00:00       opera.exe              663.780873            262.0   \n",
      "2021-09-10 14:30:00       opera.exe              871.821915            458.0   \n",
      "2021-09-10 15:00:00       opera.exe             1585.753779             57.0   \n",
      "2021-09-10 15:30:00       opera.exe             1034.388266            171.0   \n",
      "2021-09-10 16:00:00  TopTracker.exe              723.750394            259.0   \n",
      "\n",
      "                     Speed(ms)  PAM_Val  \n",
      "Time                                     \n",
      "2021-09-10 11:30:00   2.290322      2.0  \n",
      "2021-09-10 12:00:00   6.713206      2.0  \n",
      "2021-09-10 12:30:00   7.769313      1.0  \n",
      "2021-09-10 13:00:00  10.621018      1.0  \n",
      "2021-09-10 13:30:00   5.499976      2.0  \n",
      "2021-09-10 14:00:00   5.671917      1.0  \n",
      "2021-09-10 14:30:00   7.329196      2.0  \n",
      "2021-09-10 15:00:00  13.973504      2.0  \n",
      "2021-09-10 15:30:00  11.074431      3.0  \n",
      "2021-09-10 16:00:00   9.973826      1.0  \n"
     ]
    }
   ],
   "source": [
    "print(comb_user1.head(10))"
   ]
  },
  {
   "cell_type": "code",
   "execution_count": 16,
   "metadata": {},
   "outputs": [
    {
     "name": "stdout",
     "output_type": "stream",
     "text": [
      "                         App_Name  Inactivity Duration(s)  Keystroke_Count  \\\n",
      "Time                                                                         \n",
      "2021-09-07 08:30:00  explorer.exe             1333.010048              9.0   \n",
      "2021-09-07 09:00:00  explorer.exe              424.366271             62.0   \n",
      "2021-09-07 09:30:00  explorer.exe             5432.486898            114.0   \n",
      "2021-09-07 10:00:00  explorer.exe             2498.585778             43.0   \n",
      "2021-09-07 10:30:00  explorer.exe             2966.281775            145.0   \n",
      "2021-09-07 11:00:00  explorer.exe             2369.555328            169.0   \n",
      "2021-09-07 11:30:00  explorer.exe             2525.331417            144.0   \n",
      "2021-09-07 12:00:00  explorer.exe             1676.141351            295.0   \n",
      "2021-09-07 12:30:00  explorer.exe             2246.678371            136.0   \n",
      "2021-09-07 13:00:00  explorer.exe             3291.911282            101.0   \n",
      "\n",
      "                     Speed(ms)  PAM_Val  \n",
      "Time                                     \n",
      "2021-09-07 08:30:00   3.588716      1.0  \n",
      "2021-09-07 09:00:00   2.973620      2.0  \n",
      "2021-09-07 09:30:00   3.683716      2.0  \n",
      "2021-09-07 10:00:00   3.899898      2.0  \n",
      "2021-09-07 10:30:00   3.688746      2.0  \n",
      "2021-09-07 11:00:00   3.915189      1.0  \n",
      "2021-09-07 11:30:00   4.255813      1.0  \n",
      "2021-09-07 12:00:00   4.012072      2.0  \n",
      "2021-09-07 12:30:00   3.955987      2.0  \n",
      "2021-09-07 13:00:00   4.013291      2.0  \n"
     ]
    }
   ],
   "source": [
    "print(comb_user2.head(10))"
   ]
  },
  {
   "cell_type": "code",
   "execution_count": 17,
   "metadata": {},
   "outputs": [
    {
     "name": "stdout",
     "output_type": "stream",
     "text": [
      "User 1:\n",
      "40 timestamps\n",
      "\n",
      "--- NaN Count ---\n",
      "App_Name                  0\n",
      "Inactivity Duration(s)    0\n",
      "Keystroke_Count           0\n",
      "Speed(ms)                 0\n",
      "PAM_Val                   0\n",
      "dtype: int64\n",
      "\n",
      "--- PAM distribution ---\n",
      "2.0    17\n",
      "1.0    14\n",
      "4.0     5\n",
      "3.0     4\n",
      "Name: PAM_Val, dtype: int64\n"
     ]
    }
   ],
   "source": [
    "print('User 1:')\n",
    "print(str(comb_user1.shape[0]) + ' timestamps')\n",
    "print()\n",
    "print('--- NaN Count ---')\n",
    "print(comb_user1.isna().sum())\n",
    "print()\n",
    "print('--- PAM distribution ---')\n",
    "print(comb_user1.PAM_Val.value_counts())"
   ]
  },
  {
   "cell_type": "code",
   "execution_count": 18,
   "metadata": {},
   "outputs": [
    {
     "name": "stdout",
     "output_type": "stream",
     "text": [
      "User 2:\n",
      "94 timestamps\n",
      "\n",
      "--- NaN Count ---\n",
      "App_Name                  0\n",
      "Inactivity Duration(s)    0\n",
      "Keystroke_Count           0\n",
      "Speed(ms)                 0\n",
      "PAM_Val                   0\n",
      "dtype: int64\n",
      "\n",
      "--- PAM distribution ---\n",
      "2.0    59\n",
      "1.0    18\n",
      "3.0    13\n",
      "4.0     4\n",
      "Name: PAM_Val, dtype: int64\n"
     ]
    }
   ],
   "source": [
    "print('User 2:')\n",
    "print(str(comb_user2.shape[0]) + ' timestamps')\n",
    "print()\n",
    "print('--- NaN Count ---')\n",
    "print(comb_user2.isna().sum())\n",
    "print()\n",
    "print('--- PAM distribution ---')\n",
    "print(comb_user2.PAM_Val.value_counts())"
   ]
  },
  {
   "cell_type": "code",
   "execution_count": 19,
   "metadata": {},
   "outputs": [],
   "source": [
    "comb_user1.to_csv('./user1_preprocessed_2.csv')\n",
    "comb_user2.to_csv('./user2_preprocessed_2.csv')"
   ]
  }
 ],
 "metadata": {
  "kernelspec": {
   "display_name": "Python 3",
   "language": "python",
   "name": "python3"
  },
  "language_info": {
   "codemirror_mode": {
    "name": "ipython",
    "version": 3
   },
   "file_extension": ".py",
   "mimetype": "text/x-python",
   "name": "python",
   "nbconvert_exporter": "python",
   "pygments_lexer": "ipython3",
   "version": "3.9.6"
  },
  "orig_nbformat": 4,
  "vscode": {
   "interpreter": {
    "hash": "772f66837d71377a9e91bdceabcb0d3cb18014278592638634865ba084916021"
   }
  }
 },
 "nbformat": 4,
 "nbformat_minor": 2
}

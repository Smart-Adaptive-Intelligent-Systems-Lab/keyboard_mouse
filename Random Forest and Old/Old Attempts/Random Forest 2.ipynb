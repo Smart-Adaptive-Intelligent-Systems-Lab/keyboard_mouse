{
  "cells": [
    {
      "cell_type": "code",
      "execution_count": 1,
      "metadata": {
        "colab": {
          "base_uri": "https://localhost:8080/"
        },
        "id": "QQUqRjRliqbd",
        "outputId": "de54f573-760a-4289-9c2e-8d43b5b1d4d4"
      },
      "outputs": [
        {
          "name": "stderr",
          "output_type": "stream",
          "text": [
            "c:\\Users\\kevin\\AppData\\Local\\Programs\\Python\\Python39\\lib\\site-packages\\tqdm\\auto.py:22: TqdmWarning: IProgress not found. Please update jupyter and ipywidgets. See https://ipywidgets.readthedocs.io/en/stable/user_install.html\n",
            "  from .autonotebook import tqdm as notebook_tqdm\n"
          ]
        },
        {
          "name": "stdout",
          "output_type": "stream",
          "text": [
            "True\n",
            "cuda\n"
          ]
        }
      ],
      "source": [
        "import torch\n",
        "from torch import nn\n",
        "from torch.utils.data import Dataset, DataLoader\n",
        "from torch.optim import lr_scheduler\n",
        "import torchvision\n",
        "import torchvision.transforms as transforms\n",
        "from sklearn.ensemble import RandomForestClassifier\n",
        "\n",
        "from sklearn.metrics import confusion_matrix, accuracy_score, precision_score, recall_score, f1_score\n",
        "from sklearn.model_selection import StratifiedKFold, KFold\n",
        "import numpy as np\n",
        "import pandas as pd\n",
        "import matplotlib.pyplot as plt\n",
        "from random import shuffle\n",
        "import warnings\n",
        "\n",
        "warnings.filterwarnings('ignore')\n",
        "\n",
        "print(torch.cuda.is_available())\n",
        "device = torch.device('cuda' if torch.cuda.is_available() else 'cpu')\n",
        "print(device)"
      ]
    },
    {
      "cell_type": "code",
      "execution_count": 2,
      "metadata": {
        "id": "FpHmjzCFjkHS"
      },
      "outputs": [],
      "source": [
        "learning_rate = 0.001\n",
        "epochs = 20\n",
        "\n",
        "hidden_size = 8\n",
        "num_layers = 2"
      ]
    },
    {
      "cell_type": "code",
      "execution_count": 3,
      "metadata": {
        "colab": {
          "base_uri": "https://localhost:8080/"
        },
        "id": "Opp3vbulu_sP",
        "outputId": "fed13567-7d04-4880-ed89-abe4434e6740"
      },
      "outputs": [
        {
          "name": "stdout",
          "output_type": "stream",
          "text": [
            "                     Inactivity Duration(s)  Speed(ms)  PAM_Val\n",
            "Time                                                           \n",
            "2021-09-10 11:30:00              784.401936   2.290322      2.0\n",
            "2021-09-10 12:00:00              784.401936   6.713206      2.0\n",
            "2021-09-10 12:30:00              618.809407   7.769313      1.0\n",
            "2021-09-10 13:00:00             1048.829218  10.621018      1.0\n",
            "2021-09-10 13:30:00             1219.861964   5.499976      2.0\n",
            "(131, 3)\n"
          ]
        }
      ],
      "source": [
        "user1 = pd.read_csv('user1_preprocessed.csv')\n",
        "user2 = pd.read_csv('user2_preprocessed.csv')\n",
        "user = user1.append(user2)\n",
        "\n",
        "user = user.set_index(pd.DatetimeIndex(user['Time']))\n",
        "\n",
        "user = user.filter(items=['Inactivity Duration(s)', 'Speed(ms)', 'PAM_Val'])\n",
        "\n",
        "print(user.head(5))\n",
        "print(user.shape)"
      ]
    },
    {
      "cell_type": "code",
      "execution_count": 5,
      "metadata": {},
      "outputs": [
        {
          "name": "stdout",
          "output_type": "stream",
          "text": [
            "(131, 3)\n",
            "1.0    32\n",
            "2.0    73\n",
            "3.0    17\n",
            "4.0     9\n",
            "Name: PAM_Val, dtype: int64\n",
            "1.0    0.244275\n",
            "2.0    0.557252\n",
            "3.0    0.129771\n",
            "4.0    0.068702\n",
            "Name: PAM_Val, dtype: float64\n"
          ]
        }
      ],
      "source": [
        "print(user.shape)\n",
        "print(user.PAM_Val.value_counts().sort_index())\n",
        "print(user.PAM_Val.value_counts(normalize=True).sort_index())"
      ]
    },
    {
      "cell_type": "code",
      "execution_count": 6,
      "metadata": {},
      "outputs": [
        {
          "name": "stdout",
          "output_type": "stream",
          "text": [
            "                     Inactivity Duration(s)  Speed(ms)  PAM_Val\n",
            "Time                                                           \n",
            "2021-09-10 11:30:00              784.401936   2.290322      1.0\n",
            "2021-09-10 12:00:00              784.401936   6.713206      1.0\n",
            "2021-09-10 12:30:00              618.809407   7.769313      0.0\n",
            "2021-09-10 13:00:00             1048.829218  10.621018      0.0\n",
            "2021-09-10 13:30:00             1219.861964   5.499976      1.0\n"
          ]
        }
      ],
      "source": [
        "user['PAM_Val'] = user['PAM_Val'] - 1.0\n",
        "\n",
        "print(user.head(5))"
      ]
    },
    {
      "cell_type": "code",
      "execution_count": 7,
      "metadata": {},
      "outputs": [
        {
          "name": "stdout",
          "output_type": "stream",
          "text": [
            "                     Inactivity Duration(s)  Speed(ms)\n",
            "Time                                                  \n",
            "2021-09-10 11:30:00              784.401936   2.290322\n",
            "2021-09-10 12:00:00              784.401936   6.713206\n",
            "2021-09-10 12:30:00              618.809407   7.769313\n",
            "2021-09-10 13:00:00             1048.829218  10.621018\n",
            "2021-09-10 13:30:00             1219.861964   5.499976\n",
            "...                                     ...        ...\n",
            "2021-09-14 14:00:00             2688.232416   5.285862\n",
            "2021-09-14 14:30:00             3336.329708   8.408446\n",
            "2021-09-14 15:00:00             1974.323680   4.339882\n",
            "2021-09-14 15:30:00             1748.367357   3.852752\n",
            "2021-09-14 16:00:00             1204.302734   4.095116\n",
            "\n",
            "[131 rows x 2 columns]\n",
            "Time\n",
            "2021-09-10 11:30:00    1.0\n",
            "2021-09-10 12:00:00    1.0\n",
            "2021-09-10 12:30:00    0.0\n",
            "2021-09-10 13:00:00    0.0\n",
            "2021-09-10 13:30:00    1.0\n",
            "                      ... \n",
            "2021-09-14 14:00:00    1.0\n",
            "2021-09-14 14:30:00    1.0\n",
            "2021-09-14 15:00:00    1.0\n",
            "2021-09-14 15:30:00    2.0\n",
            "2021-09-14 16:00:00    2.0\n",
            "Name: PAM_Val, Length: 131, dtype: float64\n"
          ]
        }
      ],
      "source": [
        "X = user.drop(columns='PAM_Val')\n",
        "y = user['PAM_Val']\n",
        "\n",
        "print(X)\n",
        "print(y)"
      ]
    },
    {
      "cell_type": "code",
      "execution_count": 8,
      "metadata": {
        "id": "8Qw3mz5-jUD-"
      },
      "outputs": [],
      "source": [
        "loss_fn = nn.CrossEntropyLoss()"
      ]
    },
    {
      "cell_type": "code",
      "execution_count": 9,
      "metadata": {
        "id": "5BVRtsBCvJ4b"
      },
      "outputs": [],
      "source": [
        "kfold = KFold(n_splits=5, shuffle=True)"
      ]
    },
    {
      "cell_type": "code",
      "execution_count": 10,
      "metadata": {
        "colab": {
          "base_uri": "https://localhost:8080/",
          "height": 252
        },
        "id": "iWTvlKOBvKfV",
        "outputId": "ee0a1c23-888a-482f-eac9-7f583997dda3"
      },
      "outputs": [
        {
          "name": "stdout",
          "output_type": "stream",
          "text": [
            "======================== Fold 0 ========================\n",
            "Confusion Matrix:\n",
            "[[10 14  0  0]\n",
            " [ 2 57  0  0]\n",
            " [ 0 13  0  0]\n",
            " [ 3  5  0  0]]\n",
            "Accuracy:\n",
            "0.6442307692307693\n",
            "Precision:\n",
            "0.32677902621722843\n",
            "Recall:\n",
            "0.3456920903954802\n",
            "F1:\n",
            "0.3207726957726958\n",
            "\n",
            "======================== Fold 1 ========================\n",
            "Confusion Matrix:\n",
            "[[ 9 13  0  0]\n",
            " [ 2 58  0  0]\n",
            " [ 0 16  0  0]\n",
            " [ 4  3  0  0]]\n",
            "Accuracy:\n",
            "0.638095238095238\n",
            "Precision:\n",
            "0.3111111111111111\n",
            "Recall:\n",
            "0.34393939393939393\n",
            "F1:\n",
            "0.31495495495495496\n",
            "\n",
            "======================== Fold 2 ========================\n",
            "Confusion Matrix:\n",
            "[[12 18  0  0]\n",
            " [ 3 54  0  0]\n",
            " [ 1 11  0  0]\n",
            " [ 2  4  0  0]]\n",
            "Accuracy:\n",
            "0.6285714285714286\n",
            "Precision:\n",
            "0.3218390804597701\n",
            "Recall:\n",
            "0.3368421052631579\n",
            "F1:\n",
            "0.3125\n",
            "\n",
            "======================== Fold 3 ========================\n",
            "Confusion Matrix:\n",
            "[[11 13  0  0]\n",
            " [ 3 57  0  0]\n",
            " [ 3 10  0  0]\n",
            " [ 4  4  0  0]]\n",
            "Accuracy:\n",
            "0.6476190476190476\n",
            "Precision:\n",
            "0.30059523809523814\n",
            "Recall:\n",
            "0.3520833333333333\n",
            "F1:\n",
            "0.3201388888888889\n",
            "\n",
            "======================== Fold 4 ========================\n",
            "Confusion Matrix:\n",
            "[[10 18  0  0]\n",
            " [ 2 54  0  0]\n",
            " [ 1 13  0  0]\n",
            " [ 3  4  0  0]]\n",
            "Accuracy:\n",
            "0.6095238095238096\n",
            "Precision:\n",
            "0.307935393258427\n",
            "Recall:\n",
            "0.33035714285714285\n",
            "F1:\n",
            "0.29984326018808777\n",
            "\n"
          ]
        }
      ],
      "source": [
        "comb_accuracy = []\n",
        "comb_precision = []\n",
        "comb_recall = []\n",
        "comb_f1 = []\n",
        "comb_accuracy_train = []\n",
        "comb_precision_train = []\n",
        "comb_recall_train = []\n",
        "comb_f1_train = []\n",
        "for i, (train_index, test_index) in enumerate(kfold.split(X)):\n",
        "    print(f\"======================== Fold {i} ========================\")\n",
        "\n",
        "    X_train = np.array(X)[train_index]\n",
        "    y_train = np.array(y)[train_index]\n",
        "    X_test = np.array(X)[test_index]\n",
        "    y_test = np.array(y)[test_index]\n",
        "\n",
        "    classifier = RandomForestClassifier(n_estimators = 20, max_depth=2, max_features=0.5, criterion = 'entropy')\n",
        "    classifier.fit(X_train, y_train.flatten())\n",
        "\n",
        "    y_pred_train = classifier.predict(X_train)\n",
        "\n",
        "    conf_matrix_train = confusion_matrix(y_train.flatten(), y_pred_train, labels=[0,1,2,3])\n",
        "    accuracy_train = accuracy_score(y_train.flatten(), y_pred_train)\n",
        "    precision_train = precision_score(y_train.flatten(), y_pred_train, labels=[0,1,2,3], average='macro')\n",
        "    recall_train = recall_score(y_train.flatten(), y_pred_train, labels=[0,1,2,3], average='macro')\n",
        "    f1_train = f1_score(y_train.flatten(), y_pred_train, labels=[0,1,2,3], average='macro')\n",
        "\n",
        "    y_pred = classifier.predict(X_test)\n",
        "\n",
        "    conf_matrix = confusion_matrix(y_test.flatten(), y_pred, labels=[0,1,2,3])\n",
        "    accuracy = accuracy_score(y_test.flatten(), y_pred)\n",
        "    precision = precision_score(y_test.flatten(), y_pred, labels=[0,1,2,3], average='macro')\n",
        "    recall = recall_score(y_test.flatten(), y_pred, labels=[0,1,2,3], average='macro')\n",
        "    f1 = f1_score(y_test.flatten(), y_pred, labels=[0,1,2,3], average='macro')\n",
        "\n",
        "    comb_accuracy_train.append(accuracy_train)\n",
        "    comb_precision_train.append(precision_train)\n",
        "    comb_recall_train.append(recall_train)\n",
        "    comb_f1_train.append(f1_train)\n",
        "\n",
        "    comb_accuracy.append(accuracy)\n",
        "    comb_precision.append(precision)\n",
        "    comb_recall.append(recall)\n",
        "    comb_f1.append(f1)\n",
        "\n",
        "    print('Confusion Matrix:')\n",
        "    print(np.array(conf_matrix_train))\n",
        "    print('Accuracy:')\n",
        "    print(accuracy_train)\n",
        "    print('Precision:')\n",
        "    print(precision_train)\n",
        "    print('Recall:')\n",
        "    print(recall_train)\n",
        "    print('F1:')\n",
        "    print(f1_train)\n",
        "    print()"
      ]
    },
    {
      "cell_type": "code",
      "execution_count": 11,
      "metadata": {
        "id": "EPk3L9fYbRQg"
      },
      "outputs": [
        {
          "name": "stdout",
          "output_type": "stream",
          "text": [
            "Average Accuracy:\n",
            "\tTrain: 0.6336080586080586\n",
            "\tTest: 0.6031339031339031\n",
            "Average Precision:\n",
            "\tTrain: 0.31365196982835497\n",
            "\tTest: 0.26866104242820493\n",
            "Average Recall:\n",
            "\tTrain: 0.3417828131577016\n",
            "\tTest: 0.3017651098901099\n",
            "Average F1:\n",
            "\tTrain: 0.31364195996092553\n",
            "\tTest: 0.2720551064390735\n"
          ]
        }
      ],
      "source": [
        "comb_accuracy_train = np.array(comb_accuracy_train)\n",
        "comb_precision_train = np.array(comb_precision_train)\n",
        "comb_recall_train = np.array(comb_recall_train)\n",
        "comb_f1_train = np.array(comb_f1_train)\n",
        "\n",
        "comb_accuracy = np.array(comb_accuracy)\n",
        "comb_precision = np.array(comb_precision)\n",
        "comb_recall = np.array(comb_recall)\n",
        "comb_f1 = np.array(comb_f1)\n",
        "\n",
        "print('Average Accuracy:')\n",
        "print('\\tTrain:', comb_accuracy_train.mean(axis=0))\n",
        "print('\\tTest:', comb_accuracy.mean(axis=0))\n",
        "print('Average Precision:')\n",
        "print('\\tTrain:', comb_precision_train.mean(axis=0))\n",
        "print('\\tTest:', comb_precision.mean(axis=0))\n",
        "print('Average Recall:')\n",
        "print('\\tTrain:', comb_recall_train.mean(axis=0))\n",
        "print('\\tTest:', comb_recall.mean(axis=0))\n",
        "print('Average F1:')\n",
        "print('\\tTrain:', comb_f1_train.mean(axis=0))\n",
        "print('\\tTest:', comb_f1.mean(axis=0))"
      ]
    }
  ],
  "metadata": {
    "accelerator": "GPU",
    "colab": {
      "provenance": []
    },
    "gpuClass": "standard",
    "kernelspec": {
      "display_name": "Python 3",
      "language": "python",
      "name": "python3"
    },
    "language_info": {
      "codemirror_mode": {
        "name": "ipython",
        "version": 3
      },
      "file_extension": ".py",
      "mimetype": "text/x-python",
      "name": "python",
      "nbconvert_exporter": "python",
      "pygments_lexer": "ipython3",
      "version": "3.9.6"
    },
    "vscode": {
      "interpreter": {
        "hash": "772f66837d71377a9e91bdceabcb0d3cb18014278592638634865ba084916021"
      }
    }
  },
  "nbformat": 4,
  "nbformat_minor": 0
}

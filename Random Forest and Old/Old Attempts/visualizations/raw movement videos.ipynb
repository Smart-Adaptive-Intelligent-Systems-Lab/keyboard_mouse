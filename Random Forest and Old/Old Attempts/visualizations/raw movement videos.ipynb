{
 "cells": [
  {
   "cell_type": "code",
   "execution_count": 1,
   "metadata": {},
   "outputs": [],
   "source": [
    "import numpy as np\n",
    "import pandas as pd\n",
    "from matplotlib import pyplot as plt\n",
    "from matplotlib.animation import FuncAnimation\n",
    "import random\n",
    "from math import ceil\n",
    "\n",
    "import matplotlib as mpl \n",
    "mpl.rcParams['animation.ffmpeg_path'] = r'...\\\\ffmpeg-2023-04-24-git-2aad9765ef-essentials_build\\\\bin\\\\ffmpeg.exe'"
   ]
  },
  {
   "cell_type": "code",
   "execution_count": 2,
   "metadata": {},
   "outputs": [
    {
     "name": "stdout",
     "output_type": "stream",
     "text": [
      "                              X    Y  PAM_Val  delta_time  seq_num\n",
      "Time                                                              \n",
      "2021-09-10 11:59:42.515770  518  381        4         0.0        0\n",
      "2021-09-10 11:59:42.523750  511  388        4      7980.0        0\n",
      "2021-09-10 11:59:42.531727  509  393        4      7977.0        0\n",
      "2021-09-10 11:59:42.539705  505  397        4      7978.0        0\n",
      "2021-09-10 11:59:42.547684  501  399        4      7979.0        0\n",
      "...                         ...  ...      ...         ...      ...\n",
      "2021-09-14 18:31:29.481415  424  676        1      4985.0       32\n",
      "2021-09-14 18:31:29.498370  429  673        1     16955.0       32\n",
      "2021-09-14 18:31:29.514327  432  671        1     15957.0       32\n",
      "2021-09-14 18:31:29.666919  432  671        1    152592.0       32\n",
      "2021-09-14 18:31:29.747703  432  671        1     80784.0       32\n",
      "\n",
      "[844221 rows x 5 columns]\n",
      "datetime64[ns]\n"
     ]
    }
   ],
   "source": [
    "user = pd.read_csv('user1_preprocessed_4.csv', index_col=0)\n",
    "user = user.filter(['X', 'Y', 'PAM_Val', 'delta_time', 'seq_num'])\n",
    "user.index = pd.to_datetime(user.index)\n",
    "\n",
    "print(user)\n",
    "print(user.index.dtype)"
   ]
  },
  {
   "cell_type": "code",
   "execution_count": 3,
   "metadata": {},
   "outputs": [],
   "source": [
    "#plt.plot(user['Time'][:1000], user['delta_time'][:1000].values)"
   ]
  },
  {
   "cell_type": "code",
   "execution_count": 4,
   "metadata": {},
   "outputs": [
    {
     "name": "stdout",
     "output_type": "stream",
     "text": [
      "                               X    Y  PAM_Val  delta_time\n",
      "Time                                                      \n",
      "2021-09-10 12:03:02.960078  1103  603        4    883213.0\n",
      "2021-09-10 12:03:02.968056  1103  602        4      7978.0\n",
      "2021-09-10 12:03:02.976035  1103  601        4      7979.0\n",
      "2021-09-10 12:03:32.540002  1103  600        4    563967.0\n",
      "2021-09-10 12:03:32.547980  1103  600        4      7978.0\n",
      "...                          ...  ...      ...         ...\n",
      "2021-09-10 12:03:49.435837   768  301        4      7981.0\n",
      "2021-09-10 12:03:49.442819   768  300        4      6982.0\n",
      "2021-09-10 12:03:49.467751   768  300        4     24932.0\n",
      "2021-09-10 12:03:49.483706   768  299        4     15955.0\n",
      "2021-09-10 12:03:49.596407   768  299        4    112701.0\n",
      "\n",
      "[646 rows x 4 columns]\n"
     ]
    }
   ],
   "source": [
    "user_grouped = user.groupby(by='seq_num')\n",
    "\n",
    "sequences = []\n",
    "for seq_num, seq in user_grouped:\n",
    "    seq = seq.loc[seq.index > seq.index[-1] - pd.Timedelta(pd.offsets.Second(60))]\n",
    "    sequences.append(seq.drop(columns=['seq_num']))\n",
    "\n",
    "print(sequences[0])"
   ]
  },
  {
   "cell_type": "code",
   "execution_count": 5,
   "metadata": {},
   "outputs": [
    {
     "name": "stdout",
     "output_type": "stream",
     "text": [
      "0 done\n",
      "1 done\n",
      "2 done\n",
      "3 done\n",
      "4 done\n",
      "5 done\n",
      "6 done\n",
      "7 done\n",
      "8 done\n",
      "9 done\n",
      "10 done\n",
      "11 done\n",
      "12 done\n"
     ]
    }
   ],
   "source": [
    "def create_animation(sequence, file_name, interval, speed_multiplier):\n",
    "    fig = plt.figure()\n",
    "    ax = plt.axes(xlim=(0, 2560), ylim=(0, 1440))\n",
    "    line, = ax.plot([], [], lw=1)\n",
    "\n",
    "    plotcols = ['red', 'blue']\n",
    "    lines = []\n",
    "    for index in range(2):\n",
    "        lobj = ax.plot([], [], lw=1, color=plotcols[index])[0]\n",
    "        lines.append(lobj)\n",
    "        \n",
    "    def init():\n",
    "        for line in lines:\n",
    "            line.set_data([], [])\n",
    "        return lines\n",
    "    def animate(i):\n",
    "        data = sequence.loc[sequence.index <= sequence.index[0] + pd.Timedelta(pd.offsets.Milli(int(interval * i * speed_multiplier)))]\n",
    "        #curr_data = sequence[i-10:i]\n",
    "\n",
    "        lines[0].set_data(data['X'].tolist(), data['Y'].tolist())\n",
    "        #lines[1].set_data(curr_data['X'].tolist(), curr_data['Y'].tolist())\n",
    "\n",
    "\n",
    "        return line,\n",
    "\n",
    "    duration = int(ceil((sequence.index[-1] - sequence.index[0]).total_seconds() * 1e3))\n",
    "    anim = FuncAnimation(fig, animate, init_func=init, frames=duration // (interval * speed_multiplier), interval=interval, blit=True)\n",
    "\n",
    "    anim.save(file_name+'_'+str(speed_multiplier)+'x'+'.mp4')\n",
    "\n",
    "#print(sequences[0])\n",
    "speed_multiplier = 1\n",
    "#create_animation(sequence=sequences[1], file_name='output_color_test', interval=50, speed_multiplier=speed_multiplier)\n",
    "for index, sequence in enumerate(sequences):\n",
    "    create_animation(sequence=sequence, file_name='output'+str(index), interval=50, speed_multiplier=speed_multiplier)\n",
    "    print(str(index), 'done')"
   ]
  }
 ],
 "metadata": {
  "kernelspec": {
   "display_name": "Python 3",
   "language": "python",
   "name": "python3"
  },
  "language_info": {
   "codemirror_mode": {
    "name": "ipython",
    "version": 3
   },
   "file_extension": ".py",
   "mimetype": "text/x-python",
   "name": "python",
   "nbconvert_exporter": "python",
   "pygments_lexer": "ipython3",
   "version": "3.9.6"
  },
  "orig_nbformat": 4
 },
 "nbformat": 4,
 "nbformat_minor": 2
}

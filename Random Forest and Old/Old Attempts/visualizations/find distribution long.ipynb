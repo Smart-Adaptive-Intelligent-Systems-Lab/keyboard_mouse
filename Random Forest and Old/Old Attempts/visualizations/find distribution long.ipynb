{
 "cells": [
  {
   "cell_type": "code",
   "execution_count": 1,
   "metadata": {},
   "outputs": [],
   "source": [
    "import pandas as pd\n",
    "from fitter import Fitter"
   ]
  },
  {
   "cell_type": "code",
   "execution_count": 2,
   "metadata": {},
   "outputs": [
    {
     "name": "stdout",
     "output_type": "stream",
     "text": [
      "                             Time  delta_time\n",
      "0      2021-09-10 11:59:42.515770         0.0\n",
      "1      2021-09-10 11:59:42.523750      7980.0\n",
      "2      2021-09-10 11:59:42.531727      7977.0\n",
      "3      2021-09-10 11:59:42.539705      7978.0\n",
      "4      2021-09-10 11:59:42.547684      7979.0\n",
      "...                           ...         ...\n",
      "844216 2021-09-14 18:31:29.481415      4985.0\n",
      "844217 2021-09-14 18:31:29.498370     16955.0\n",
      "844218 2021-09-14 18:31:29.514327     15957.0\n",
      "844219 2021-09-14 18:31:29.666919    152592.0\n",
      "844220 2021-09-14 18:31:29.747703     80784.0\n",
      "\n",
      "[844221 rows x 2 columns]\n"
     ]
    }
   ],
   "source": [
    "user1 = pd.read_csv('user1_preprocessed_4.csv')\n",
    "user2 = pd.read_csv('user2_preprocessed_4.csv')\n",
    "\n",
    "user1 = user1.filter(['Time', 'delta_time'])\n",
    "user2 = user2.filter(['Time', 'delta_time'])\n",
    "\n",
    "user1['Time'] = pd.to_datetime(user1['Time'])\n",
    "user2['Time'] = pd.to_datetime(user2['Time'])\n",
    "\n",
    "print(user1)"
   ]
  },
  {
   "cell_type": "code",
   "execution_count": 3,
   "metadata": {},
   "outputs": [],
   "source": [
    "data1 = user1['delta_time'].values\n",
    "data2 = user2['delta_time'].values"
   ]
  },
  {
   "cell_type": "code",
   "execution_count": 4,
   "metadata": {},
   "outputs": [
    {
     "name": "stderr",
     "output_type": "stream",
     "text": [
      "Fitting 3 distributions: 100%|██████████| 3/3 [00:16<00:00,  5.66s/it]\n"
     ]
    }
   ],
   "source": [
    "f1 = Fitter(data1, timeout=300, distributions=['cauchy', 'pareto', 'powerlaw'])\n",
    "f1.fit()"
   ]
  },
  {
   "cell_type": "code",
   "execution_count": 5,
   "metadata": {},
   "outputs": [
    {
     "data": {
      "text/html": [
       "<div>\n",
       "<style scoped>\n",
       "    .dataframe tbody tr th:only-of-type {\n",
       "        vertical-align: middle;\n",
       "    }\n",
       "\n",
       "    .dataframe tbody tr th {\n",
       "        vertical-align: top;\n",
       "    }\n",
       "\n",
       "    .dataframe thead th {\n",
       "        text-align: right;\n",
       "    }\n",
       "</style>\n",
       "<table border=\"1\" class=\"dataframe\">\n",
       "  <thead>\n",
       "    <tr style=\"text-align: right;\">\n",
       "      <th></th>\n",
       "      <th>sumsquare_error</th>\n",
       "      <th>aic</th>\n",
       "      <th>bic</th>\n",
       "      <th>kl_div</th>\n",
       "      <th>ks_statistic</th>\n",
       "      <th>ks_pvalue</th>\n",
       "    </tr>\n",
       "  </thead>\n",
       "  <tbody>\n",
       "    <tr>\n",
       "      <th>cauchy</th>\n",
       "      <td>5.384940e-10</td>\n",
       "      <td>3809.292400</td>\n",
       "      <td>-2.953793e+07</td>\n",
       "      <td>0.050760</td>\n",
       "      <td>0.149739</td>\n",
       "      <td>0.0</td>\n",
       "    </tr>\n",
       "    <tr>\n",
       "      <th>powerlaw</th>\n",
       "      <td>3.309329e-09</td>\n",
       "      <td>2936.613664</td>\n",
       "      <td>-2.800504e+07</td>\n",
       "      <td>1.174581</td>\n",
       "      <td>0.493998</td>\n",
       "      <td>0.0</td>\n",
       "    </tr>\n",
       "    <tr>\n",
       "      <th>pareto</th>\n",
       "      <td>3.691074e-09</td>\n",
       "      <td>3281.657530</td>\n",
       "      <td>-2.791288e+07</td>\n",
       "      <td>0.441829</td>\n",
       "      <td>0.530311</td>\n",
       "      <td>0.0</td>\n",
       "    </tr>\n",
       "  </tbody>\n",
       "</table>\n",
       "</div>"
      ],
      "text/plain": [
       "          sumsquare_error          aic           bic    kl_div  ks_statistic   \n",
       "cauchy       5.384940e-10  3809.292400 -2.953793e+07  0.050760      0.149739  \\\n",
       "powerlaw     3.309329e-09  2936.613664 -2.800504e+07  1.174581      0.493998   \n",
       "pareto       3.691074e-09  3281.657530 -2.791288e+07  0.441829      0.530311   \n",
       "\n",
       "          ks_pvalue  \n",
       "cauchy          0.0  \n",
       "powerlaw        0.0  \n",
       "pareto          0.0  "
      ]
     },
     "execution_count": 5,
     "metadata": {},
     "output_type": "execute_result"
    },
    {
     "data": {
      "image/png": "[encoded data removed]",
      "text/plain": [
       "<Figure size 432x288 with 1 Axes>"
      ]
     },
     "metadata": {
      "needs_background": "light"
     },
     "output_type": "display_data"
    }
   ],
   "source": [
    "f1.summary(lw=1)"
   ]
  },
  {
   "cell_type": "code",
   "execution_count": 6,
   "metadata": {},
   "outputs": [
    {
     "name": "stderr",
     "output_type": "stream",
     "text": [
      "Fitting 3 distributions: 100%|██████████| 3/3 [02:08<00:00, 42.83s/it]\n"
     ]
    }
   ],
   "source": [
    "f2 = Fitter(data2, timeout=300, distributions=['cauchy', 'pareto', 'powerlaw'])\n",
    "f2.fit()"
   ]
  },
  {
   "cell_type": "code",
   "execution_count": 7,
   "metadata": {},
   "outputs": [
    {
     "data": {
      "text/html": [
       "<div>\n",
       "<style scoped>\n",
       "    .dataframe tbody tr th:only-of-type {\n",
       "        vertical-align: middle;\n",
       "    }\n",
       "\n",
       "    .dataframe tbody tr th {\n",
       "        vertical-align: top;\n",
       "    }\n",
       "\n",
       "    .dataframe thead th {\n",
       "        text-align: right;\n",
       "    }\n",
       "</style>\n",
       "<table border=\"1\" class=\"dataframe\">\n",
       "  <thead>\n",
       "    <tr style=\"text-align: right;\">\n",
       "      <th></th>\n",
       "      <th>sumsquare_error</th>\n",
       "      <th>aic</th>\n",
       "      <th>bic</th>\n",
       "      <th>kl_div</th>\n",
       "      <th>ks_statistic</th>\n",
       "      <th>ks_pvalue</th>\n",
       "    </tr>\n",
       "  </thead>\n",
       "  <tbody>\n",
       "    <tr>\n",
       "      <th>cauchy</th>\n",
       "      <td>1.123455e-09</td>\n",
       "      <td>3935.725564</td>\n",
       "      <td>-1.532873e+08</td>\n",
       "      <td>0.011401</td>\n",
       "      <td>0.187543</td>\n",
       "      <td>0.0</td>\n",
       "    </tr>\n",
       "    <tr>\n",
       "      <th>powerlaw</th>\n",
       "      <td>5.790002e-09</td>\n",
       "      <td>2985.702676</td>\n",
       "      <td>-1.462809e+08</td>\n",
       "      <td>1.711737</td>\n",
       "      <td>0.437803</td>\n",
       "      <td>0.0</td>\n",
       "    </tr>\n",
       "    <tr>\n",
       "      <th>pareto</th>\n",
       "      <td>6.263036e-09</td>\n",
       "      <td>3303.262818</td>\n",
       "      <td>-1.459454e+08</td>\n",
       "      <td>0.843050</td>\n",
       "      <td>0.535598</td>\n",
       "      <td>0.0</td>\n",
       "    </tr>\n",
       "  </tbody>\n",
       "</table>\n",
       "</div>"
      ],
      "text/plain": [
       "          sumsquare_error          aic           bic    kl_div  ks_statistic   \n",
       "cauchy       1.123455e-09  3935.725564 -1.532873e+08  0.011401      0.187543  \\\n",
       "powerlaw     5.790002e-09  2985.702676 -1.462809e+08  1.711737      0.437803   \n",
       "pareto       6.263036e-09  3303.262818 -1.459454e+08  0.843050      0.535598   \n",
       "\n",
       "          ks_pvalue  \n",
       "cauchy          0.0  \n",
       "powerlaw        0.0  \n",
       "pareto          0.0  "
      ]
     },
     "execution_count": 7,
     "metadata": {},
     "output_type": "execute_result"
    },
    {
     "data": {
      "image/png": "[encoded data removed]",
      "text/plain": [
       "<Figure size 432x288 with 1 Axes>"
      ]
     },
     "metadata": {
      "needs_background": "light"
     },
     "output_type": "display_data"
    }
   ],
   "source": [
    "f2.summary(lw=1)"
   ]
  },
  {
   "cell_type": "code",
   "execution_count": 8,
   "metadata": {},
   "outputs": [
    {
     "name": "stderr",
     "output_type": "stream",
     "text": [
      "Fitting 106 distributions:  37%|███▋      | 39/106 [13:46<16:36, 14.87s/it]  SKIPPED kstwo distribution (taking more than 3000 seconds)\n",
      "Fitting 106 distributions:  67%|██████▋   | 71/106 [44:31<1:14:55, 128.45s/it]SKIPPED rv_continuous distribution (taking more than 3000 seconds)\n",
      "SKIPPED rv_histogram distribution (taking more than 3000 seconds)\n",
      "Fitting 106 distributions:  72%|███████▏  | 76/106 [47:49<31:07, 62.24s/it]   c:\\Users\\kevin\\AppData\\Local\\Programs\\Python\\Python39\\lib\\site-packages\\scipy\\integrate\\_quadpack_py.py:879: IntegrationWarning: The maximum number of subdivisions (50) has been achieved.\n",
      "  If increasing the limit yields no improvement it is advised to analyze \n",
      "  the integrand in order to determine the difficulties.  If the position of a \n",
      "  local difficulty can be determined (singularity, discontinuity) one will \n",
      "  probably gain from splitting up the interval and calling the integrator \n",
      "  on the subranges.  Perhaps a special-purpose integrator should be used.\n",
      "  quad_r = quad(f, low, high, args=args, full_output=self.full_output,\n",
      "c:\\Users\\kevin\\AppData\\Local\\Programs\\Python\\Python39\\lib\\site-packages\\scipy\\integrate\\_quadpack_py.py:879: IntegrationWarning: The integral is probably divergent, or slowly convergent.\n",
      "  quad_r = quad(f, low, high, args=args, full_output=self.full_output,\n",
      "c:\\Users\\kevin\\AppData\\Local\\Programs\\Python\\Python39\\lib\\site-packages\\scipy\\stats\\_continuous_distns.py:4858: IntegrationWarning: The integral is probably divergent, or slowly convergent.\n",
      "  intg = integrate.quad(f, -xi, np.pi/2, **intg_kwargs)[0]\n",
      "Fitting 106 distributions:  77%|███████▋  | 82/106 [59:35<40:05, 100.23s/it]  SKIPPED kappa4 distribution (taking more than 3000 seconds)\n",
      "Fitting 106 distributions:  78%|███████▊  | 83/106 [1:03:13<52:02, 135.75s/it]SKIPPED ksone distribution (taking more than 3000 seconds)\n",
      "Fitting 106 distributions:  83%|████████▎ | 88/106 [1:04:30<10:33, 35.21s/it] SKIPPED levy_stable distribution (taking more than 3000 seconds)\n",
      "Fitting 106 distributions:  87%|████████▋ | 92/106 [1:09:02<12:53, 55.26s/it]SKIPPED ncf distribution (taking more than 3000 seconds)\n",
      "Fitting 106 distributions:  88%|████████▊ | 93/106 [1:10:50<15:23, 71.02s/it]SKIPPED ncx2 distribution (taking more than 3000 seconds)\n",
      "Fitting 106 distributions:  95%|█████████▌| 101/106 [1:30:02<13:36, 163.26s/it]SKIPPED studentized_range distribution (taking more than 3000 seconds)\n",
      "Fitting 106 distributions:  97%|█████████▋| 103/106 [1:41:16<12:00, 240.02s/it]c:\\Users\\kevin\\AppData\\Local\\Programs\\Python\\Python39\\lib\\site-packages\\scipy\\stats\\_continuous_distns.py:3102: IntegrationWarning: The algorithm does not converge.  Roundoff error is detected\n",
      "  in the extrapolation table.  It is assumed that the requested tolerance\n",
      "  cannot be achieved, and that the returned result (if full_output = 1) is \n",
      "  the best which can be obtained.\n",
      "  t1 = integrate.quad(llc, -np.inf, x)[0]\n",
      "Fitting 106 distributions:  98%|█████████▊| 104/106 [1:53:10<12:44, 382.36s/it]c:\\Users\\kevin\\AppData\\Local\\Programs\\Python\\Python39\\lib\\site-packages\\scipy\\stats\\_continuous_distns.py:3102: IntegrationWarning: The integral is probably divergent, or slowly convergent.\n",
      "  t1 = integrate.quad(llc, -np.inf, x)[0]\n",
      "Fitting 106 distributions: 100%|██████████| 106/106 [2:01:52<00:00, 68.98s/it] \n"
     ]
    }
   ],
   "source": [
    "f1_full = Fitter(data1, timeout=3000)\n",
    "f1_full.fit()"
   ]
  },
  {
   "cell_type": "code",
   "execution_count": 9,
   "metadata": {},
   "outputs": [
    {
     "data": {
      "text/html": [
       "<div>\n",
       "<style scoped>\n",
       "    .dataframe tbody tr th:only-of-type {\n",
       "        vertical-align: middle;\n",
       "    }\n",
       "\n",
       "    .dataframe tbody tr th {\n",
       "        vertical-align: top;\n",
       "    }\n",
       "\n",
       "    .dataframe thead th {\n",
       "        text-align: right;\n",
       "    }\n",
       "</style>\n",
       "<table border=\"1\" class=\"dataframe\">\n",
       "  <thead>\n",
       "    <tr style=\"text-align: right;\">\n",
       "      <th></th>\n",
       "      <th>sumsquare_error</th>\n",
       "      <th>aic</th>\n",
       "      <th>bic</th>\n",
       "      <th>kl_div</th>\n",
       "      <th>ks_statistic</th>\n",
       "      <th>ks_pvalue</th>\n",
       "    </tr>\n",
       "  </thead>\n",
       "  <tbody>\n",
       "    <tr>\n",
       "      <th>invgamma</th>\n",
       "      <td>9.123753e-11</td>\n",
       "      <td>3702.135059</td>\n",
       "      <td>-3.103667e+07</td>\n",
       "      <td>0.100773</td>\n",
       "      <td>0.209059</td>\n",
       "      <td>0.0</td>\n",
       "    </tr>\n",
       "    <tr>\n",
       "      <th>betaprime</th>\n",
       "      <td>1.064073e-10</td>\n",
       "      <td>3686.729683</td>\n",
       "      <td>-3.090681e+07</td>\n",
       "      <td>0.118834</td>\n",
       "      <td>0.178604</td>\n",
       "      <td>0.0</td>\n",
       "    </tr>\n",
       "    <tr>\n",
       "      <th>geninvgauss</th>\n",
       "      <td>1.153684e-10</td>\n",
       "      <td>3719.758220</td>\n",
       "      <td>-3.083855e+07</td>\n",
       "      <td>0.130142</td>\n",
       "      <td>0.185569</td>\n",
       "      <td>0.0</td>\n",
       "    </tr>\n",
       "    <tr>\n",
       "      <th>powerlognorm</th>\n",
       "      <td>1.893532e-10</td>\n",
       "      <td>3847.003510</td>\n",
       "      <td>-3.042025e+07</td>\n",
       "      <td>0.183076</td>\n",
       "      <td>0.213667</td>\n",
       "      <td>0.0</td>\n",
       "    </tr>\n",
       "    <tr>\n",
       "      <th>johnsonsb</th>\n",
       "      <td>2.700968e-10</td>\n",
       "      <td>3966.636630</td>\n",
       "      <td>-3.012041e+07</td>\n",
       "      <td>0.209762</td>\n",
       "      <td>0.213576</td>\n",
       "      <td>0.0</td>\n",
       "    </tr>\n",
       "  </tbody>\n",
       "</table>\n",
       "</div>"
      ],
      "text/plain": [
       "              sumsquare_error          aic           bic    kl_div   \n",
       "invgamma         9.123753e-11  3702.135059 -3.103667e+07  0.100773  \\\n",
       "betaprime        1.064073e-10  3686.729683 -3.090681e+07  0.118834   \n",
       "geninvgauss      1.153684e-10  3719.758220 -3.083855e+07  0.130142   \n",
       "powerlognorm     1.893532e-10  3847.003510 -3.042025e+07  0.183076   \n",
       "johnsonsb        2.700968e-10  3966.636630 -3.012041e+07  0.209762   \n",
       "\n",
       "              ks_statistic  ks_pvalue  \n",
       "invgamma          0.209059        0.0  \n",
       "betaprime         0.178604        0.0  \n",
       "geninvgauss       0.185569        0.0  \n",
       "powerlognorm      0.213667        0.0  \n",
       "johnsonsb         0.213576        0.0  "
      ]
     },
     "execution_count": 9,
     "metadata": {},
     "output_type": "execute_result"
    }
   ],
   "source": [
    "f1_full.summary(lw=1, plot=False)"
   ]
  },
  {
   "cell_type": "code",
   "execution_count": 10,
   "metadata": {},
   "outputs": [
    {
     "name": "stderr",
     "output_type": "stream",
     "text": [
      "Fitting 106 distributions:  11%|█▏        | 12/106 [15:31<1:28:21, 56.40s/it]c:\\Users\\kevin\\AppData\\Local\\Programs\\Python\\Python39\\lib\\site-packages\\scipy\\stats\\_continuous_distns.py:4858: IntegrationWarning: The integral is probably divergent, or slowly convergent.\n",
      "  intg = integrate.quad(f, -xi, np.pi/2, **intg_kwargs)[0]\n",
      "Fitting 106 distributions:  34%|███▍      | 36/106 [49:56<1:25:59, 73.71s/it] SKIPPED burr distribution (taking more than 3000 seconds)\n",
      "Fitting 106 distributions:  37%|███▋      | 39/106 [51:57<1:06:11, 59.27s/it]SKIPPED kstwo distribution (taking more than 3000 seconds)\n",
      "Fitting 106 distributions:  43%|████▎     | 46/106 [59:51<1:18:35, 78.59s/it]SKIPPED fisk distribution (taking more than 3000 seconds)\n",
      "Fitting 106 distributions:  45%|████▌     | 48/106 [1:01:09<55:51, 57.79s/it]  SKIPPED gausshyper distribution (taking more than 3000 seconds)\n",
      "Fitting 106 distributions:  50%|█████     | 53/106 [1:10:09<1:14:50, 84.72s/it] SKIPPED genhyperbolic distribution (taking more than 3000 seconds)\n",
      "Fitting 106 distributions:  56%|█████▌    | 59/106 [1:15:03<38:13, 48.79s/it]  SKIPPED geninvgauss distribution (taking more than 3000 seconds)\n",
      "Fitting 106 distributions:  66%|██████▌   | 70/106 [1:33:48<59:26, 99.07s/it]   SKIPPED rv_continuous distribution (taking more than 3000 seconds)\n",
      "Fitting 106 distributions:  67%|██████▋   | 71/106 [1:38:11<1:26:25, 148.14s/it]SKIPPED rv_histogram distribution (taking more than 3000 seconds)\n",
      "Fitting 106 distributions:  71%|███████   | 75/106 [1:39:21<28:49, 55.79s/it]   SKIPPED kappa4 distribution (taking more than 3000 seconds)\n",
      "Fitting 106 distributions:  72%|███████▏  | 76/106 [1:40:02<25:39, 51.31s/it]SKIPPED ksone distribution (taking more than 3000 seconds)\n",
      "Fitting 106 distributions:  73%|███████▎  | 77/106 [1:40:17<19:32, 40.42s/it]c:\\Users\\kevin\\AppData\\Local\\Programs\\Python\\Python39\\lib\\site-packages\\scipy\\integrate\\_quadpack_py.py:879: IntegrationWarning: The maximum number of subdivisions (50) has been achieved.\n",
      "  If increasing the limit yields no improvement it is advised to analyze \n",
      "  the integrand in order to determine the difficulties.  If the position of a \n",
      "  local difficulty can be determined (singularity, discontinuity) one will \n",
      "  probably gain from splitting up the interval and calling the integrator \n",
      "  on the subranges.  Perhaps a special-purpose integrator should be used.\n",
      "  quad_r = quad(f, low, high, args=args, full_output=self.full_output,\n",
      "c:\\Users\\kevin\\AppData\\Local\\Programs\\Python\\Python39\\lib\\site-packages\\scipy\\integrate\\_quadpack_py.py:879: IntegrationWarning: The integral is probably divergent, or slowly convergent.\n",
      "  quad_r = quad(f, low, high, args=args, full_output=self.full_output,\n",
      "Fitting 106 distributions:  74%|███████▎  | 78/106 [1:44:20<47:08, 101.02s/it]SKIPPED levy_stable distribution (taking more than 3000 seconds)\n",
      "Fitting 106 distributions:  82%|████████▏ | 87/106 [2:00:16<30:16, 95.62s/it]   SKIPPED ncf distribution (taking more than 3000 seconds)\n",
      "Fitting 106 distributions:  86%|████████▌ | 91/106 [2:03:39<13:05, 52.35s/it] SKIPPED ncx2 distribution (taking more than 3000 seconds)\n",
      "Fitting 106 distributions:  89%|████████▊ | 94/106 [2:15:02<41:06, 205.57s/it]SKIPPED powerlognorm distribution (taking more than 3000 seconds)\n",
      "Fitting 106 distributions:  92%|█████████▏| 97/106 [2:18:18<16:05, 107.33s/it]SKIPPED recipinvgauss distribution (taking more than 3000 seconds)\n",
      "Fitting 106 distributions:  94%|█████████▍| 100/106 [2:25:45<13:12, 132.12s/it]SKIPPED studentized_range distribution (taking more than 3000 seconds)\n",
      "Fitting 106 distributions:  96%|█████████▌| 102/106 [2:34:24<13:07, 196.98s/it]SKIPPED triang distribution (taking more than 3000 seconds)\n",
      "Fitting 106 distributions:  98%|█████████▊| 104/106 [2:40:05<05:43, 171.88s/it]SKIPPED tukeylambda distribution (taking more than 3000 seconds)\n",
      "Fitting 106 distributions:  99%|█████████▉| 105/106 [2:44:04<03:11, 191.84s/it]"
     ]
    }
   ],
   "source": [
    "f2_full = Fitter(data2, timeout=3000)\n",
    "f2_full.fit()"
   ]
  },
  {
   "cell_type": "code",
   "execution_count": null,
   "metadata": {},
   "outputs": [],
   "source": [
    "f2_full.summary(lw=1, plot=False)"
   ]
  }
 ],
 "metadata": {
  "kernelspec": {
   "display_name": "Python 3",
   "language": "python",
   "name": "python3"
  },
  "language_info": {
   "codemirror_mode": {
    "name": "ipython",
    "version": 3
   },
   "file_extension": ".py",
   "mimetype": "text/x-python",
   "name": "python",
   "nbconvert_exporter": "python",
   "pygments_lexer": "ipython3",
   "version": "3.9.6"
  },
  "orig_nbformat": 4
 },
 "nbformat": 4,
 "nbformat_minor": 2
}

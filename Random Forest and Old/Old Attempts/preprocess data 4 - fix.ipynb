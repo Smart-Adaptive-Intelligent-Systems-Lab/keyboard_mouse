{
 "cells": [
  {
   "cell_type": "code",
   "execution_count": 1,
   "metadata": {},
   "outputs": [],
   "source": [
    "import os\n",
    "import pandas as pd\n",
    "from math import floor, ceil\n",
    "from statistics import mean, median, mode"
   ]
  },
  {
   "cell_type": "code",
   "execution_count": 2,
   "metadata": {},
   "outputs": [],
   "source": [
    "# Goal dataframe structure\n",
    "# timestamp (min), speed, keystrokes, active window (app name), inactive time, PAM\n",
    "\n",
    "# speed: average\n",
    "# keystrokes: sum\n",
    "# active window: mode\n",
    "# inactive time: sum\n",
    "# PAM: none (no duplicates in a minute)\n",
    "\n",
    "# mousedata.tsv not needed"
   ]
  },
  {
   "cell_type": "code",
   "execution_count": 3,
   "metadata": {},
   "outputs": [],
   "source": [
    "# PAM (photographic affect meter): a tool/app that measures emotion (aka affect)\n",
    "# by showing photographs and asking users to select the one that best matches their mood\n",
    "\n",
    "# Valence: pleasurable or not\n",
    "# Arousal: activation or deactivation\n",
    "\n",
    "#                 High Arousal\n",
    "#             +------------------+\n",
    "#             | 6 | 8 || 14 | 16 |\n",
    "#             +------------------+\n",
    "#             | 5 | 7 || 13 | 15 |\n",
    "# Low Valence +==================+ High Valence\n",
    "#             | 2 | 4 || 10 | 12 |\n",
    "#             +------------------+\n",
    "#             | 1 | 3 ||  9 | 11 |\n",
    "#             +------------------+\n",
    "#                 Low Arousal\n",
    "\n",
    "# https://dl.acm.org/doi/10.1145/1978942.1979047\n",
    "\n",
    "\n",
    "\n",
    "# looks like we can group values into buckets of 4\n",
    "# (1, 2, 3, 4), (5, 6, 7, 8), (9, 10, 11, 12), (13, 14, 15, 16)"
   ]
  },
  {
   "cell_type": "code",
   "execution_count": 4,
   "metadata": {},
   "outputs": [],
   "source": [
    "root_path = os.path.abspath('./archive/Data')\n",
    "\n",
    "user1_path = os.path.join(root_path, 'user 1')\n",
    "user2_path = os.path.join(root_path, 'user 2')"
   ]
  },
  {
   "cell_type": "code",
   "execution_count": 5,
   "metadata": {},
   "outputs": [],
   "source": [
    "# read data from all files\n",
    "def read_data(user_path: str, file_path: str):\n",
    "    data = pd.read_csv(os.path.join(user_path, file_path), sep='\\t')\n",
    "    data.drop(data.filter(regex=\"Unnamed: \"), axis=1, inplace=True)\n",
    "    return data\n",
    "\n",
    "mousedata_user1 = read_data(user1_path, 'mousedata.tsv')\n",
    "usercondition_user1 = read_data(user1_path, 'usercondition.tsv')\n",
    "\n",
    "mousedata_user2 = read_data(user2_path, 'mousedata.tsv')\n",
    "usercondition_user2 = read_data(user2_path, 'usercondition.tsv')"
   ]
  },
  {
   "cell_type": "code",
   "execution_count": 6,
   "metadata": {},
   "outputs": [
    {
     "name": "stdout",
     "output_type": "stream",
     "text": [
      "                         Time Event_Type    X    Y   Daylight\n",
      "0  2021-09-10 11:59:42.515770       Move  518  381  Afternoon\n",
      "1  2021-09-10 11:59:42.523750       Move  511  388  Afternoon\n",
      "2  2021-09-10 11:59:42.531727       Move  509  393  Afternoon\n",
      "3  2021-09-10 11:59:42.539705       Move  505  397  Afternoon\n",
      "4  2021-09-10 11:59:42.547684       Move  501  399  Afternoon\n"
     ]
    }
   ],
   "source": [
    "print(mousedata_user1.head(5))"
   ]
  },
  {
   "cell_type": "code",
   "execution_count": 7,
   "metadata": {},
   "outputs": [
    {
     "name": "stdout",
     "output_type": "stream",
     "text": [
      "                         Time Event_Type    X    Y   Daylight\n",
      "0  2021-09-10 11:59:42.515770       Move  518  381  Afternoon\n",
      "1  2021-09-10 11:59:42.523750       Move  511  388  Afternoon\n",
      "2  2021-09-10 11:59:42.531727       Move  509  393  Afternoon\n",
      "3  2021-09-10 11:59:42.539705       Move  505  397  Afternoon\n",
      "4  2021-09-10 11:59:42.547684       Move  501  399  Afternoon\n"
     ]
    }
   ],
   "source": [
    "print(mousedata_user1.head(5))"
   ]
  },
  {
   "cell_type": "code",
   "execution_count": 8,
   "metadata": {},
   "outputs": [
    {
     "name": "stdout",
     "output_type": "stream",
     "text": [
      "Time          object\n",
      "Event_Type    object\n",
      "X              int64\n",
      "Y              int64\n",
      "Daylight      object\n",
      "dtype: object\n",
      "Time          object\n",
      "Event_Type    object\n",
      "X              int64\n",
      "Y              int64\n",
      "dtype: object\n"
     ]
    }
   ],
   "source": [
    "# filter to desired columns\n",
    "def filter_cols(dataframe, cols_to_keep):\n",
    "    dataframe.drop(dataframe.columns.difference(cols_to_keep), axis=1, inplace=True)\n",
    "\n",
    "print(mousedata_user1.dtypes)\n",
    "\n",
    "filter_cols(mousedata_user1, ['Time', 'Event_Type', 'X', 'Y'])\n",
    "filter_cols(usercondition_user1, ['Time', 'PAM_Val'])\n",
    "\n",
    "filter_cols(mousedata_user2, ['Time', 'Event_Type', 'X', 'Y'])\n",
    "filter_cols(usercondition_user2, ['Time', 'PAM_Val'])\n",
    "\n",
    "print(mousedata_user1.dtypes)"
   ]
  },
  {
   "cell_type": "code",
   "execution_count": 9,
   "metadata": {},
   "outputs": [
    {
     "name": "stdout",
     "output_type": "stream",
     "text": [
      "PAM_Val\n",
      "2     7\n",
      "3     4\n",
      "8     4\n",
      "14    3\n",
      "7     3\n",
      "4     2\n",
      "9     2\n",
      "1     2\n",
      "6     2\n",
      "5     1\n",
      "13    1\n",
      "15    1\n",
      "10    1\n",
      "Name: count, dtype: int64\n",
      "PAM_Val\n",
      "1    15\n",
      "2    10\n",
      "4     5\n",
      "3     3\n",
      "Name: count, dtype: int64\n"
     ]
    }
   ],
   "source": [
    "# groups PAM values into groups of 4\n",
    "# (1, 2, 3, 4), (5, 6, 7, 8), (9, 10, 11, 12), (13, 14, 15, 16) => (1), (2), (3), (4)\n",
    "\n",
    "print(usercondition_user1.PAM_Val.value_counts())\n",
    "\n",
    "usercondition_user1['PAM_Val'] = usercondition_user1['PAM_Val'].replace([1, 2, 3, 4], 1)\n",
    "usercondition_user1['PAM_Val'] = usercondition_user1['PAM_Val'].replace([5, 6, 7, 8], 2)\n",
    "usercondition_user1['PAM_Val'] = usercondition_user1['PAM_Val'].replace([9, 10, 11, 12], 3)\n",
    "usercondition_user1['PAM_Val'] = usercondition_user1['PAM_Val'].replace([13, 14, 15, 16], 4)\n",
    "\n",
    "usercondition_user2['PAM_Val'] = usercondition_user2['PAM_Val'].replace([1, 2, 3, 4], 1)\n",
    "usercondition_user2['PAM_Val'] = usercondition_user2['PAM_Val'].replace([5, 6, 7, 8], 2)\n",
    "usercondition_user2['PAM_Val'] = usercondition_user2['PAM_Val'].replace([9, 10, 11, 12], 3)\n",
    "usercondition_user2['PAM_Val'] = usercondition_user2['PAM_Val'].replace([13, 14, 15, 16], 4)\n",
    "\n",
    "print(usercondition_user1.PAM_Val.value_counts())"
   ]
  },
  {
   "cell_type": "code",
   "execution_count": 10,
   "metadata": {},
   "outputs": [
    {
     "name": "stdout",
     "output_type": "stream",
     "text": [
      "User 1\n",
      "PAM_Val\n",
      "1    15\n",
      "2    10\n",
      "4     5\n",
      "3     3\n",
      "Name: count, dtype: int64\n",
      "\n",
      "User 2\n",
      "PAM_Val\n",
      "2    37\n",
      "1    14\n",
      "3    11\n",
      "4     3\n",
      "Name: count, dtype: int64\n"
     ]
    }
   ],
   "source": [
    "print('User 1')\n",
    "print(usercondition_user1.PAM_Val.value_counts())\n",
    "print()\n",
    "print('User 2')\n",
    "print(usercondition_user2.PAM_Val.value_counts())"
   ]
  },
  {
   "cell_type": "code",
   "execution_count": 11,
   "metadata": {},
   "outputs": [
    {
     "name": "stdout",
     "output_type": "stream",
     "text": [
      "                           Event_Type    X    Y\n",
      "Time                                           \n",
      "2021-09-10 11:59:42.515770       Move  518  381\n",
      "2021-09-10 11:59:42.523750       Move  511  388\n",
      "2021-09-10 11:59:42.531727       Move  509  393\n",
      "2021-09-10 11:59:42.539705       Move  505  397\n",
      "2021-09-10 11:59:42.547684       Move  501  399\n"
     ]
    }
   ],
   "source": [
    "mousedata_user1 = mousedata_user1.set_index(pd.DatetimeIndex(mousedata_user1['Time']))\n",
    "mousedata_user2 = mousedata_user2.set_index(pd.DatetimeIndex(mousedata_user2['Time']))\n",
    "usercondition_user1 = usercondition_user1.set_index(pd.DatetimeIndex(usercondition_user1['Time']))\n",
    "usercondition_user2 = usercondition_user2.set_index(pd.DatetimeIndex(usercondition_user2['Time']))\n",
    "\n",
    "mousedata_user1.drop(columns='Time', inplace=True)\n",
    "mousedata_user2.drop(columns='Time', inplace=True)\n",
    "usercondition_user1.drop(columns='Time', inplace=True)\n",
    "usercondition_user2.drop(columns='Time', inplace=True)\n",
    "\n",
    "print(mousedata_user1.head(5))"
   ]
  },
  {
   "cell_type": "code",
   "execution_count": 12,
   "metadata": {},
   "outputs": [
    {
     "name": "stdout",
     "output_type": "stream",
     "text": [
      "Time\n",
      "2021-09-10 11:59:42.515770             0\n",
      "2021-09-10 11:59:42.523750       7980000\n",
      "2021-09-10 11:59:42.531727       7977000\n",
      "2021-09-10 11:59:42.539705       7978000\n",
      "2021-09-10 11:59:42.547684       7979000\n",
      "                                 ...    \n",
      "2021-09-14 18:58:25.083623      99734000\n",
      "2021-09-14 18:58:25.199313     115690000\n",
      "2021-09-14 18:58:25.600241     400928000\n",
      "2021-09-14 18:58:27.096237    1495996000\n",
      "2021-09-14 18:58:27.238855     142618000\n",
      "Name: Time, Length: 870384, dtype: int64\n"
     ]
    }
   ],
   "source": [
    "import numpy as np\n",
    "\n",
    "#print(mousedata_user1.index.to_series().diff().head(50))\n",
    "print(mousedata_user1.index.to_series().diff().fillna(pd.Timedelta(0.0)).astype(np.int64))"
   ]
  },
  {
   "cell_type": "code",
   "execution_count": 13,
   "metadata": {},
   "outputs": [
    {
     "name": "stdout",
     "output_type": "stream",
     "text": [
      "                            PAM_Val\n",
      "Time                               \n",
      "2021-09-10 12:03:49.599397        4\n",
      "2021-09-10 12:05:18.375074        1\n",
      "2021-09-10 12:56:42.248174        1\n",
      "2021-09-10 13:27:00.550791        1\n",
      "2021-09-10 13:57:10.866776        2\n"
     ]
    }
   ],
   "source": [
    "print(usercondition_user1.head(5))"
   ]
  },
  {
   "cell_type": "code",
   "execution_count": 14,
   "metadata": {},
   "outputs": [
    {
     "name": "stdout",
     "output_type": "stream",
     "text": [
      "                               Event_Type    X    Y  PAM_Val  seq_num   \n",
      "Time                                                                    \n",
      "2021-09-10 11:59:42.515770           Move  518  381        4        0  \\\n",
      "2021-09-10 11:59:42.523750           Move  511  388        4        0   \n",
      "2021-09-10 11:59:42.531727           Move  509  393        4        0   \n",
      "2021-09-10 11:59:42.539705           Move  505  397        4        0   \n",
      "2021-09-10 11:59:42.547684           Move  501  399        4        0   \n",
      "...                                   ...  ...  ...      ...      ...   \n",
      "2021-09-14 18:31:29.481415           Move  424  676        1       32   \n",
      "2021-09-14 18:31:29.498370           Move  429  673        1       32   \n",
      "2021-09-14 18:31:29.514327           Move  432  671        1       32   \n",
      "2021-09-14 18:31:29.666919   Left_Pressed  432  671        1       32   \n",
      "2021-09-14 18:31:29.747703  Left_Released  432  671        1       32   \n",
      "\n",
      "                            delta_time  \n",
      "Time                                    \n",
      "2021-09-10 11:59:42.515770           0  \n",
      "2021-09-10 11:59:42.523750     7980000  \n",
      "2021-09-10 11:59:42.531727     7977000  \n",
      "2021-09-10 11:59:42.539705     7978000  \n",
      "2021-09-10 11:59:42.547684     7979000  \n",
      "...                                ...  \n",
      "2021-09-14 18:31:29.481415     4985000  \n",
      "2021-09-14 18:31:29.498370    16955000  \n",
      "2021-09-14 18:31:29.514327    15957000  \n",
      "2021-09-14 18:31:29.666919   152592000  \n",
      "2021-09-14 18:31:29.747703    80784000  \n",
      "\n",
      "[844221 rows x 6 columns]\n"
     ]
    }
   ],
   "source": [
    "# assigns pam value, unique identifier, and delta time to each sequence\n",
    "comb_user1 = mousedata_user1.loc[mousedata_user1.index <= usercondition_user1.index[0]]\n",
    "\n",
    "comb_user1 = comb_user1.assign(PAM_Val = usercondition_user1.iloc[0].PAM_Val)\n",
    "comb_user1 = comb_user1.assign(seq_num = 0)\n",
    "comb_user1 = comb_user1.assign(delta_time = comb_user1.index.to_series().diff().fillna(pd.Timedelta(0.0)).astype(np.int64))\n",
    "\n",
    "for index, (start_timestamp, end_timestamp) in enumerate(zip(usercondition_user1.index, usercondition_user1.index[1:])):\n",
    "    temp_dataframe = mousedata_user1.loc[(mousedata_user1.index > start_timestamp) & (mousedata_user1.index <= end_timestamp)]\n",
    "\n",
    "    temp_dataframe = temp_dataframe.assign(PAM_Val = usercondition_user1.loc[end_timestamp].PAM_Val)\n",
    "    temp_dataframe = temp_dataframe.assign(seq_num = index + 1)\n",
    "    temp_dataframe = temp_dataframe.assign(delta_time = temp_dataframe.index.to_series().diff().fillna(pd.Timedelta(0.0)).astype(np.int64))\n",
    "\n",
    "    comb_user1 = pd.concat([comb_user1, temp_dataframe])\n",
    "\n",
    "# ================================ #\n",
    "\n",
    "comb_user2 = mousedata_user2.loc[mousedata_user2.index <= usercondition_user2.index[0]]\n",
    "\n",
    "comb_user2 = comb_user2.assign(PAM_Val = usercondition_user2.iloc[0].PAM_Val)\n",
    "comb_user2 = comb_user2.assign(seq_num = 0)\n",
    "comb_user2 = comb_user2.assign(delta_time = comb_user2.index.to_series().diff().fillna(pd.Timedelta(0.0)).astype(np.int64))\n",
    "\n",
    "for index, (start_timestamp, end_timestamp) in enumerate(zip(usercondition_user2.index, usercondition_user2.index[1:])):\n",
    "    temp_dataframe = mousedata_user2.loc[(mousedata_user2.index > start_timestamp) & (mousedata_user2.index <= end_timestamp)]\n",
    "\n",
    "    temp_dataframe = temp_dataframe.assign(PAM_Val = usercondition_user2.loc[end_timestamp].PAM_Val)\n",
    "    temp_dataframe = temp_dataframe.assign(seq_num = index + 1)\n",
    "    temp_dataframe = temp_dataframe.assign(delta_time = temp_dataframe.index.to_series().diff().fillna(pd.Timedelta(0.0)).astype(np.int64))\n",
    "\n",
    "    comb_user2 = pd.concat([comb_user2, temp_dataframe])\n",
    "\n",
    "print(comb_user1)"
   ]
  },
  {
   "cell_type": "code",
   "execution_count": 15,
   "metadata": {},
   "outputs": [
    {
     "name": "stdout",
     "output_type": "stream",
     "text": [
      "                           Event_Type    X    Y  PAM_Val  seq_num  delta_time\n",
      "Time                                                                         \n",
      "2021-09-10 11:59:42.515770       Move  518  381        4        0           0\n",
      "2021-09-10 11:59:42.523750       Move  511  388        4        0     7980000\n",
      "2021-09-10 11:59:42.531727       Move  509  393        4        0     7977000\n",
      "2021-09-10 11:59:42.539705       Move  505  397        4        0     7978000\n",
      "2021-09-10 11:59:42.547684       Move  501  399        4        0     7979000\n",
      "2021-09-10 11:59:42.555664       Move  500  401        4        0     7980000\n",
      "2021-09-10 11:59:42.564639       Move  498  403        4        0     8975000\n",
      "2021-09-10 11:59:42.571621       Move  498  403        4        0     6982000\n",
      "2021-09-10 11:59:42.579599       Move  495  407        4        0     7978000\n",
      "2021-09-10 11:59:42.588576       Move  495  408        4        0     8977000\n"
     ]
    }
   ],
   "source": [
    "print(comb_user1.head(10))"
   ]
  },
  {
   "cell_type": "code",
   "execution_count": 16,
   "metadata": {},
   "outputs": [
    {
     "name": "stdout",
     "output_type": "stream",
     "text": [
      "                           Event_Type    X    Y  PAM_Val  seq_num  delta_time\n",
      "Time                                                                         \n",
      "2021-09-07 08:40:02.135293       Move  917  654        1        0           0\n",
      "2021-09-07 08:40:02.180209       Move  915  654        1        0    44916000\n",
      "2021-09-07 08:40:02.247588       Move  912  654        1        0    67379000\n",
      "2021-09-07 08:40:02.997540       Move  914  654        1        0   749952000\n",
      "2021-09-07 08:40:03.003413       Move  914  652        1        0     5873000\n",
      "2021-09-07 08:40:03.014151       Move  917  652        1        0    10738000\n",
      "2021-09-07 08:40:03.025856       Move  919  652        1        0    11705000\n",
      "2021-09-07 08:40:03.028787       Move  919  649        1        0     2931000\n",
      "2021-09-07 08:40:03.035623       Move  919  647        1        0     6836000\n",
      "2021-09-07 08:40:03.038552       Move  922  647        1        0     2929000\n"
     ]
    }
   ],
   "source": [
    "print(comb_user2.head(10))"
   ]
  },
  {
   "cell_type": "code",
   "execution_count": 17,
   "metadata": {},
   "outputs": [
    {
     "name": "stdout",
     "output_type": "stream",
     "text": [
      "User 1:\n",
      "33 sequences\n",
      "844221 timestamps\n",
      "\n",
      "--- NaN Count ---\n",
      "Event_Type    0\n",
      "X             0\n",
      "Y             0\n",
      "PAM_Val       0\n",
      "seq_num       0\n",
      "delta_time    0\n",
      "dtype: int64\n",
      "\n",
      "--- PAM distribution ---\n",
      "PAM_Val\n",
      "1    15\n",
      "2    10\n",
      "4     5\n",
      "3     3\n",
      "Name: count, dtype: int64\n"
     ]
    }
   ],
   "source": [
    "print('User 1:')\n",
    "print(str(sum(usercondition_user1.PAM_Val.value_counts().values)) + ' sequences')\n",
    "print(str(comb_user1.shape[0]) + ' timestamps')\n",
    "print()\n",
    "print('--- NaN Count ---')\n",
    "print(comb_user1.isna().sum())\n",
    "print()\n",
    "print('--- PAM distribution ---')\n",
    "print(usercondition_user1.PAM_Val.value_counts())"
   ]
  },
  {
   "cell_type": "code",
   "execution_count": 18,
   "metadata": {},
   "outputs": [
    {
     "name": "stdout",
     "output_type": "stream",
     "text": [
      "User 2:\n",
      "65 sequences\n",
      "4272858 timestamps\n",
      "\n",
      "--- NaN Count ---\n",
      "Event_Type    0\n",
      "X             0\n",
      "Y             0\n",
      "PAM_Val       0\n",
      "seq_num       0\n",
      "delta_time    0\n",
      "dtype: int64\n",
      "\n",
      "--- PAM distribution ---\n",
      "PAM_Val\n",
      "2    37\n",
      "1    14\n",
      "3    11\n",
      "4     3\n",
      "Name: count, dtype: int64\n"
     ]
    }
   ],
   "source": [
    "print('User 2:')\n",
    "print(str(sum(usercondition_user2.PAM_Val.value_counts().values)) + ' sequences')\n",
    "print(str(comb_user2.shape[0]) + ' timestamps')\n",
    "print()\n",
    "print('--- NaN Count ---')\n",
    "print(comb_user2.isna().sum())\n",
    "print()\n",
    "print('--- PAM distribution ---')\n",
    "print(usercondition_user2.PAM_Val.value_counts())"
   ]
  },
  {
   "cell_type": "code",
   "execution_count": 19,
   "metadata": {},
   "outputs": [],
   "source": [
    "comb_user1.to_csv('./user1_preprocessed_4.csv')\n",
    "comb_user2.to_csv('./user2_preprocessed_4.csv')"
   ]
  }
 ],
 "metadata": {
  "kernelspec": {
   "display_name": "Python 3",
   "language": "python",
   "name": "python3"
  },
  "language_info": {
   "codemirror_mode": {
    "name": "ipython",
    "version": 3
   },
   "file_extension": ".py",
   "mimetype": "text/x-python",
   "name": "python",
   "nbconvert_exporter": "python",
   "pygments_lexer": "ipython3",
   "version": "3.9.6"
  },
  "orig_nbformat": 4,
  "vscode": {
   "interpreter": {
    "hash": "772f66837d71377a9e91bdceabcb0d3cb18014278592638634865ba084916021"
   }
  }
 },
 "nbformat": 4,
 "nbformat_minor": 2
}
